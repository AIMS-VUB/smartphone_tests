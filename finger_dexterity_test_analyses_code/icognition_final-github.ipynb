{
 "cells": [
  {
   "cell_type": "code",
   "execution_count": 1,
   "metadata": {},
   "outputs": [
    {
     "name": "stderr",
     "output_type": "stream",
     "text": [
      "C:\\Users\\delph\\anaconda3\\lib\\site-packages\\outdated\\utils.py:14: OutdatedPackageWarning: The package pingouin is out of date. Your version is 0.4.0, the latest is 0.5.5.\n",
      "Set the environment variable OUTDATED_IGNORE=1 to disable these warnings.\n",
      "  return warn(\n"
     ]
    }
   ],
   "source": [
    "import seaborn as sns\n",
    "import pandas as pd\n",
    "import matplotlib.pyplot as plt\n",
    "import scipy.stats as stats\n",
    "import math\n",
    "import ptitprince as pt\n",
    "import numpy as np\n",
    "import argparse\n",
    "import pandas as pd\n",
    "import statsmodels.api as sm\n",
    "from sklearn.preprocessing import StandardScaler\n",
    "import pingouin as pg"
   ]
  },
  {
   "cell_type": "markdown",
   "metadata": {},
   "source": [
    "# Import dataframe & filter and count included subjects"
   ]
  },
  {
   "cell_type": "code",
   "execution_count": 2,
   "metadata": {},
   "outputs": [
    {
     "name": "stdout",
     "output_type": "stream",
     "text": [
      "The number of included subjects is 183\n"
     ]
    }
   ],
   "source": [
    "#df = pd.read_excel(#insert file path here)\n",
    "df_incl = df[df['rejection'] == 'no']\n",
    "print(f'The number of included subjects is {df_incl.shape[0]}')"
   ]
  },
  {
   "cell_type": "code",
   "execution_count": 3,
   "metadata": {},
   "outputs": [
    {
     "data": {
      "text/plain": [
       "no     183\n",
       "yes     15\n",
       "Name: rejection, dtype: int64"
      ]
     },
     "execution_count": 3,
     "metadata": {},
     "output_type": "execute_result"
    }
   ],
   "source": [
    "df['rejection'].value_counts()"
   ]
  },
  {
   "cell_type": "markdown",
   "metadata": {},
   "source": [
    "***"
   ]
  },
  {
   "cell_type": "code",
   "execution_count": 4,
   "metadata": {},
   "outputs": [
    {
     "name": "stdout",
     "output_type": "stream",
     "text": [
      "Unnamed: 0\n",
      "icognition_id\n",
      "BRU2-code\n",
      "date_testing\n",
      "time_testing\n",
      "date_of_birth\n",
      "group\n",
      "sex\n",
      "native_language\n",
      "education_n_years\n",
      "edss\n",
      "type_ms\n",
      "disease_duration\n",
      "year_first_symptoms\n",
      "year_diagnosis\n",
      "relapse_last_month\n",
      "other_diseases\n",
      "hospitalisation\n",
      "visual_problems\n",
      "manual_problems\n",
      "sleep_medication_tranquilizers\n",
      "dmt_brand_name\n",
      "cognitive_exam_last_6_months\n",
      "ehi_left_n_plus\n",
      "ehi_right_n_plus\n",
      "nhpt_dom_hand\n",
      "nhpt_dom_1\n",
      "nhpt_dom_2\n",
      "nhpt_ndom_1\n",
      "nhpt_ndom_2\n",
      "sdmt\n",
      "spart_1\n",
      "spart_2\n",
      "spart_3\n",
      "spart_tot\n",
      "digit_span_3_1\n",
      "digit_span_3_2\n",
      "digit_span_4_1\n",
      "digit_span_4_2\n",
      "digit_span_4_3\n",
      "digit_span_4_4\n",
      "digit_span_5_1\n",
      "digit_span_5_2\n",
      "digit_span_5_3\n",
      "digit_span_5_4\n",
      "digit_span_6_1\n",
      "digit_span_6_2\n",
      "digit_span_6_3\n",
      "digit_span_6_4\n",
      "digit_span_7_1\n",
      "digit_span_7_2\n",
      "bdi_total\n",
      "fsmc_mental\n",
      "fsmc_physical\n",
      "fsmc_total\n",
      "symbol_test_app_load\n",
      "dot_test_app_load\n",
      "digit_span_app_load\n",
      "sdmt_paper_load\n",
      "spart_paper_load\n",
      "digit_span_paper_load\n",
      "cog_app_test_nicest\n",
      "cog_app_test_least_nice\n",
      "important_testing_issues\n",
      "rejection\n",
      "remarks\n",
      "finger_dexterity_test_app\n",
      "nhpt_load\n",
      "fampyra\n",
      "finger_dexterity_dom_lag\n",
      "finger_dexterity_ndom_lag\n",
      "symbol_test_phone_positioning_incorrect\n",
      "age\n",
      "digit_span_aud_span_level_score\n",
      "digit_span_aud_digit_level_score\n",
      "date_testing_retest\n",
      "time_testing_retest\n",
      "important_testing_issues_retest\n",
      "rejection_retest\n",
      "symbol_test_phone_positioning_incorrect_retest\n",
      "finger_dexterity_dom_lag_retest\n",
      "finger_dexterity_ndom_lag_retest\n",
      "remarks_retest\n",
      "test_nr\n",
      "date_app\n",
      "version\n",
      "dot_test_n_correct_trial_1\n",
      "dot_test_n_correct_trial_2\n",
      "dot_test_n_correct_trial_3\n",
      "dot_test_n_correct_trial_4\n",
      "dot_test_n_correct_trial_5\n",
      "dot_test_n_correct_trial_6\n",
      "dot_test_n_correct_trial_7\n",
      "dot_test_n_correct_trial_8\n",
      "dot_test_n_correct_trial_9\n",
      "dot_test_n_correct_trial_10\n",
      "dot_test_n_correct_total\n",
      "digit_span_vis_span_level_score\n",
      "digit_span_vis_digit_level_score\n",
      "egg_test_R_dominant\n",
      "egg_test_dom_time_trial_1\n",
      "egg_test_dom_time_trial_2\n",
      "egg_test_dom_time_trial_3\n",
      "egg_test_dom_time_trial_4\n",
      "egg_test_dom_time_trial_5\n",
      "egg_test_dom_time_trial_6\n",
      "egg_test_dom_time_trial_7\n",
      "egg_test_dom_time_trial_8\n",
      "egg_test_dom_time_trial_9\n",
      "egg_test_dom_time_trial_10\n",
      "egg_test_dom_time_total\n",
      "symbol_test_n_correct\n",
      "symbol_test_n_total_responses\n",
      "symbol_test_correct_rate\n",
      "symbol_test_reaction_time_constant\n",
      "symbol_test_reaction_time_slope\n",
      "egg_test_L_dominant\n",
      "egg_test_ndom_time_trial_1\n",
      "egg_test_ndom_time_trial_2\n",
      "egg_test_ndom_time_trial_3\n",
      "egg_test_ndom_time_trial_4\n",
      "egg_test_ndom_time_trial_5\n",
      "egg_test_ndom_time_trial_6\n",
      "egg_test_ndom_time_trial_7\n",
      "egg_test_ndom_time_trial_8\n",
      "egg_test_ndom_time_trial_9\n",
      "egg_test_ndom_time_trial_10\n",
      "egg_test_ndom_time_total\n",
      "test_nr_retest\n",
      "date_app_retest\n",
      "version_retest\n",
      "dot_test_n_correct_trial_1_retest\n",
      "dot_test_n_correct_trial_2_retest\n",
      "dot_test_n_correct_trial_3_retest\n",
      "dot_test_n_correct_trial_4_retest\n",
      "dot_test_n_correct_trial_5_retest\n",
      "dot_test_n_correct_trial_6_retest\n",
      "dot_test_n_correct_trial_7_retest\n",
      "dot_test_n_correct_trial_8_retest\n",
      "dot_test_n_correct_trial_9_retest\n",
      "dot_test_n_correct_trial_10_retest\n",
      "dot_test_n_correct_total_retest\n",
      "digit_span_vis_span_level_score_retest\n",
      "digit_span_vis_digit_level_score_retest\n",
      "egg_test_R_dominant_retest\n",
      "egg_test_dom_time_trial_1_retest\n",
      "egg_test_dom_time_trial_2_retest\n",
      "egg_test_dom_time_trial_3_retest\n",
      "egg_test_dom_time_trial_4_retest\n",
      "egg_test_dom_time_trial_5_retest\n",
      "egg_test_dom_time_trial_6_retest\n",
      "egg_test_dom_time_trial_7_retest\n",
      "egg_test_dom_time_trial_8_retest\n",
      "egg_test_dom_time_trial_9_retest\n",
      "egg_test_dom_time_trial_10_retest\n",
      "egg_test_dom_time_total_retest\n",
      "symbol_test_n_correct_retest\n",
      "symbol_test_n_total_responses_retest\n",
      "symbol_test_correct_rate_retest\n",
      "symbol_test_reaction_time_constant_retest\n",
      "symbol_test_reaction_time_slope_retest\n",
      "egg_test_L_dominant_retest\n",
      "egg_test_ndom_time_trial_1_retest\n",
      "egg_test_ndom_time_trial_2_retest\n",
      "egg_test_ndom_time_trial_3_retest\n",
      "egg_test_ndom_time_trial_4_retest\n",
      "egg_test_ndom_time_trial_5_retest\n",
      "egg_test_ndom_time_trial_6_retest\n",
      "egg_test_ndom_time_trial_7_retest\n",
      "egg_test_ndom_time_trial_8_retest\n",
      "egg_test_ndom_time_trial_9_retest\n",
      "egg_test_ndom_time_trial_10_retest\n",
      "egg_test_ndom_time_total_retest\n",
      "test-retest_time_difference_days\n",
      "df_creation_date_and_time\n"
     ]
    }
   ],
   "source": [
    "for col in df_incl.columns: print(col)"
   ]
  },
  {
   "cell_type": "markdown",
   "metadata": {},
   "source": [
    "# Calculate scores"
   ]
  },
  {
   "cell_type": "markdown",
   "metadata": {},
   "source": [
    "## Finger Dexterity Test (FDT) & NHPT"
   ]
  },
  {
   "cell_type": "code",
   "execution_count": 5,
   "metadata": {},
   "outputs": [
    {
     "name": "stderr",
     "output_type": "stream",
     "text": [
      "C:\\Users\\delph\\anaconda3\\lib\\site-packages\\pandas\\core\\indexing.py:1745: SettingWithCopyWarning: \n",
      "A value is trying to be set on a copy of a slice from a DataFrame.\n",
      "Try using .loc[row_indexer,col_indexer] = value instead\n",
      "\n",
      "See the caveats in the documentation: https://pandas.pydata.org/pandas-docs/stable/user_guide/indexing.html#returning-a-view-versus-a-copy\n",
      "  isetter(ilocs[0], value)\n",
      "C:\\Users\\delph\\anaconda3\\lib\\site-packages\\pandas\\core\\indexing.py:1596: SettingWithCopyWarning: \n",
      "A value is trying to be set on a copy of a slice from a DataFrame.\n",
      "Try using .loc[row_indexer,col_indexer] = value instead\n",
      "\n",
      "See the caveats in the documentation: https://pandas.pydata.org/pandas-docs/stable/user_guide/indexing.html#returning-a-view-versus-a-copy\n",
      "  self.obj[key] = _infer_fill_value(value)\n"
     ]
    }
   ],
   "source": [
    "df_incl.loc[:, 'egg_test_dom_time_total'] = df_incl['egg_test_dom_time_total'].apply(lambda x: x/1000)\n",
    "df_incl.loc[:, 'egg_test_ndom_time_total'] = df_incl['egg_test_ndom_time_total'].apply(lambda x: x/1000)\n",
    "df_incl.loc[:, 'egg_test_dom_time_total_retest'] = df_incl['egg_test_dom_time_total_retest'].apply(lambda x: x/1000)\n",
    "df_incl.loc[:, 'egg_test_ndom_time_total_retest'] = df_incl['egg_test_ndom_time_total_retest'].apply(lambda x: x/1000)\n",
    "df_incl.loc[:, 'nhpt_avg_dom'] = df_incl[['nhpt_dom_1', 'nhpt_dom_2']].mean(axis=1)\n",
    "df_incl.loc[:, 'nhpt_avg_ndom'] = df_incl[['nhpt_ndom_1', 'nhpt_ndom_2']].mean(axis=1)"
   ]
  },
  {
   "cell_type": "markdown",
   "metadata": {},
   "source": [
    "### Alternative scoring method: eggs per second for FDT and pegs per second for NHPT"
   ]
  },
  {
   "cell_type": "code",
   "execution_count": 6,
   "metadata": {},
   "outputs": [
    {
     "name": "stderr",
     "output_type": "stream",
     "text": [
      "<ipython-input-6-cbe679bbbaef>:2: SettingWithCopyWarning: \n",
      "A value is trying to be set on a copy of a slice from a DataFrame.\n",
      "Try using .loc[row_indexer,col_indexer] = value instead\n",
      "\n",
      "See the caveats in the documentation: https://pandas.pydata.org/pandas-docs/stable/user_guide/indexing.html#returning-a-view-versus-a-copy\n",
      "  df_incl[\"egg_rate_dom\"] = df_incl[\"egg_test_dom_time_total\"].apply(lambda x: 10/x)\n",
      "<ipython-input-6-cbe679bbbaef>:3: SettingWithCopyWarning: \n",
      "A value is trying to be set on a copy of a slice from a DataFrame.\n",
      "Try using .loc[row_indexer,col_indexer] = value instead\n",
      "\n",
      "See the caveats in the documentation: https://pandas.pydata.org/pandas-docs/stable/user_guide/indexing.html#returning-a-view-versus-a-copy\n",
      "  df_incl[\"egg_rate_ndom\"] = df_incl[\"egg_test_ndom_time_total\"].apply(lambda x: 10/x)\n",
      "<ipython-input-6-cbe679bbbaef>:4: SettingWithCopyWarning: \n",
      "A value is trying to be set on a copy of a slice from a DataFrame.\n",
      "Try using .loc[row_indexer,col_indexer] = value instead\n",
      "\n",
      "See the caveats in the documentation: https://pandas.pydata.org/pandas-docs/stable/user_guide/indexing.html#returning-a-view-versus-a-copy\n",
      "  df_incl[\"egg_rate_dom_retest\"] = df_incl[\"egg_test_dom_time_total_retest\"].apply(lambda x: 10/x)\n",
      "<ipython-input-6-cbe679bbbaef>:5: SettingWithCopyWarning: \n",
      "A value is trying to be set on a copy of a slice from a DataFrame.\n",
      "Try using .loc[row_indexer,col_indexer] = value instead\n",
      "\n",
      "See the caveats in the documentation: https://pandas.pydata.org/pandas-docs/stable/user_guide/indexing.html#returning-a-view-versus-a-copy\n",
      "  df_incl[\"egg_rate_ndom_retest\"] = df_incl[\"egg_test_ndom_time_total_retest\"].apply(lambda x: 10/x)\n",
      "<ipython-input-6-cbe679bbbaef>:6: SettingWithCopyWarning: \n",
      "A value is trying to be set on a copy of a slice from a DataFrame.\n",
      "Try using .loc[row_indexer,col_indexer] = value instead\n",
      "\n",
      "See the caveats in the documentation: https://pandas.pydata.org/pandas-docs/stable/user_guide/indexing.html#returning-a-view-versus-a-copy\n",
      "  df_incl[\"nhpt_rate_dom\"] = df_incl[\"nhpt_avg_dom\"].apply(lambda x: 9/x)\n",
      "<ipython-input-6-cbe679bbbaef>:7: SettingWithCopyWarning: \n",
      "A value is trying to be set on a copy of a slice from a DataFrame.\n",
      "Try using .loc[row_indexer,col_indexer] = value instead\n",
      "\n",
      "See the caveats in the documentation: https://pandas.pydata.org/pandas-docs/stable/user_guide/indexing.html#returning-a-view-versus-a-copy\n",
      "  df_incl[\"nhpt_rate_ndom\"] = df_incl[\"nhpt_avg_ndom\"].apply(lambda x: 9/x)\n"
     ]
    }
   ],
   "source": [
    "# Repeat all test with egg_rate_dom/ndom and nhpt_rate_dom/ndom instead of egg_test_dom/ndom_time_total and nhpt_avg_dom/ndom to use this scoring method\n",
    "df_incl[\"egg_rate_dom\"] = df_incl[\"egg_test_dom_time_total\"].apply(lambda x: 10/x)\n",
    "df_incl[\"egg_rate_ndom\"] = df_incl[\"egg_test_ndom_time_total\"].apply(lambda x: 10/x)\n",
    "df_incl[\"egg_rate_dom_retest\"] = df_incl[\"egg_test_dom_time_total_retest\"].apply(lambda x: 10/x)\n",
    "df_incl[\"egg_rate_ndom_retest\"] = df_incl[\"egg_test_ndom_time_total_retest\"].apply(lambda x: 10/x)\n",
    "df_incl[\"nhpt_rate_dom\"] = df_incl[\"nhpt_avg_dom\"].apply(lambda x: 9/x)\n",
    "df_incl[\"nhpt_rate_ndom\"] = df_incl[\"nhpt_avg_ndom\"].apply(lambda x: 9/x)"
   ]
  },
  {
   "cell_type": "markdown",
   "metadata": {},
   "source": [
    "## Sex as a numeric variable"
   ]
  },
  {
   "cell_type": "code",
   "execution_count": 7,
   "metadata": {},
   "outputs": [
    {
     "name": "stderr",
     "output_type": "stream",
     "text": [
      "<ipython-input-7-5aa503f5fd0e>:1: SettingWithCopyWarning: \n",
      "A value is trying to be set on a copy of a slice from a DataFrame.\n",
      "Try using .loc[row_indexer,col_indexer] = value instead\n",
      "\n",
      "See the caveats in the documentation: https://pandas.pydata.org/pandas-docs/stable/user_guide/indexing.html#returning-a-view-versus-a-copy\n",
      "  df_incl['sex_num'] = df_incl['sex'].apply(lambda x: {\"m\": 1, \"v\": 2}.get(x))\n"
     ]
    }
   ],
   "source": [
    "df_incl['sex_num'] = df_incl['sex'].apply(lambda x: {\"m\": 1, \"v\": 2}.get(x))"
   ]
  },
  {
   "cell_type": "markdown",
   "metadata": {},
   "source": [
    "# Dataframes filtered for MS/HC, missing values & lag in FDT"
   ]
  },
  {
   "cell_type": "code",
   "execution_count": 8,
   "metadata": {},
   "outputs": [
    {
     "name": "stdout",
     "output_type": "stream",
     "text": [
      "The number of MS subjects is 101\n",
      "The number of healthy subjects is 82\n",
      "The number of total subjects with a Finger Dexterity test for both the dominant and non-dominant hand is 137\n",
      "The number of subjects with a dominant Finger Dexterity test is 146\n",
      "The number of subjects with a non-dominant Finger Dexterity test is 139\n",
      "The number of MS subjects with a dominant Finger Dexterity test is 65\n",
      "The number of healthy subjects with a dominant Finger Dexterity test is 81\n",
      "The number of MS subjects without lag on the dominant Finger Dexterity test is 99\n",
      "The number of MS subjects without lag on the non-dominant Finger Dexterity test is 98\n",
      "The number of healthy subjects without lag on the dominant Finger Dexterity test is 75\n",
      "The number of healthy subjects without lag on the non-dominant Finger Dexterity test is 74\n"
     ]
    }
   ],
   "source": [
    "df_ms = df_incl[df_incl['group'] == 'ms']\n",
    "print(f'The number of MS subjects is {df_ms.shape[0]}')\n",
    "df_hc = df_incl[df_incl['group'] == 'hc']\n",
    "print(f'The number of healthy subjects is {df_hc.shape[0]}')\n",
    "\n",
    "\n",
    "df_nonan_incl = df_incl[~df_incl['egg_test_dom_time_total'].isna() & ~df_incl['egg_test_ndom_time_total'].isna()]\n",
    "print(f'The number of total subjects with a Finger Dexterity test for both the dominant and non-dominant hand is {df_nonan_incl.shape[0]}')\n",
    "\n",
    "df_dom_nonan = df_incl[~df_incl['egg_test_dom_time_total'].isna()]\n",
    "print(f'The number of subjects with a dominant Finger Dexterity test is {df_dom_nonan.shape[0]}')\n",
    "df_ndom_nonan = df_incl[~df_incl['egg_test_ndom_time_total'].isna()]\n",
    "print(f'The number of subjects with a non-dominant Finger Dexterity test is {df_ndom_nonan.shape[0]}')\n",
    "\n",
    "df_dom_nonan_ms = df_ms[~df_ms['egg_test_dom_time_total'].isna()]\n",
    "print(f'The number of MS subjects with a dominant Finger Dexterity test is {df_dom_nonan_ms.shape[0]}')\n",
    "df_dom_nonan_hc = df_hc[~df_hc['egg_test_dom_time_total'].isna()]\n",
    "print(f'The number of healthy subjects with a dominant Finger Dexterity test is {df_dom_nonan_hc.shape[0]}')\n",
    "\n",
    "\n",
    "df_dom_nolag_ms = df_ms[df_ms['finger_dexterity_dom_lag'] == 'no']\n",
    "print(f'The number of MS subjects without lag on the dominant Finger Dexterity test is {df_dom_nolag_ms.shape[0]}')\n",
    "df_ndom_nolag_ms = df_ms[df_ms['finger_dexterity_ndom_lag'] == 'no']\n",
    "print(f'The number of MS subjects without lag on the non-dominant Finger Dexterity test is {df_ndom_nolag_ms.shape[0]}')\n",
    "\n",
    "df_dom_nolag_hc = df_hc[df_hc['finger_dexterity_dom_lag'] == 'no']\n",
    "print(f'The number of healthy subjects without lag on the dominant Finger Dexterity test is {df_dom_nolag_hc.shape[0]}')\n",
    "df_ndom_nolag_hc = df_hc[df_hc['finger_dexterity_ndom_lag'] == 'no']\n",
    "print(f'The number of healthy subjects without lag on the non-dominant Finger Dexterity test is {df_ndom_nolag_hc.shape[0]}')"
   ]
  },
  {
   "cell_type": "markdown",
   "metadata": {},
   "source": [
    "### Number of MS and HC subjects without finger dexterity test data"
   ]
  },
  {
   "cell_type": "code",
   "execution_count": 9,
   "metadata": {
    "scrolled": true
   },
   "outputs": [
    {
     "data": {
      "text/plain": [
       "egg_test_dom_time_total     36\n",
       "egg_test_ndom_time_total    41\n",
       "dtype: int64"
      ]
     },
     "execution_count": 9,
     "metadata": {},
     "output_type": "execute_result"
    }
   ],
   "source": [
    "df_ms[['egg_test_dom_time_total', 'egg_test_ndom_time_total']].isna().sum()"
   ]
  },
  {
   "cell_type": "code",
   "execution_count": 10,
   "metadata": {},
   "outputs": [
    {
     "data": {
      "text/plain": [
       "65"
      ]
     },
     "execution_count": 10,
     "metadata": {},
     "output_type": "execute_result"
    }
   ],
   "source": [
    "df_dom_nonan_ms['egg_test_dom_time_total'].count()"
   ]
  },
  {
   "cell_type": "code",
   "execution_count": 11,
   "metadata": {},
   "outputs": [
    {
     "data": {
      "text/plain": [
       "egg_test_dom_time_total     1\n",
       "egg_test_ndom_time_total    3\n",
       "dtype: int64"
      ]
     },
     "execution_count": 11,
     "metadata": {},
     "output_type": "execute_result"
    }
   ],
   "source": [
    "df_hc[['egg_test_dom_time_total', 'egg_test_ndom_time_total']].isna().sum()"
   ]
  },
  {
   "cell_type": "code",
   "execution_count": 12,
   "metadata": {},
   "outputs": [
    {
     "data": {
      "text/plain": [
       "81"
      ]
     },
     "execution_count": 12,
     "metadata": {},
     "output_type": "execute_result"
    }
   ],
   "source": [
    "df_dom_nonan_hc['egg_test_dom_time_total'].count()"
   ]
  },
  {
   "cell_type": "markdown",
   "metadata": {},
   "source": [
    "# Dataframes filtered for outliers"
   ]
  },
  {
   "cell_type": "code",
   "execution_count": 13,
   "metadata": {},
   "outputs": [],
   "source": [
    "# define outliers (source: https://careerfoundry.com/en/blog/data-analytics/how-to-find-outliers/#:~:text=Finding%20outliers%20using%20statistical%20methods,-Since%20the%20data&text=Using%20the%20IQR%2C%20the%20outlier,Q1%20(Q3%E2%80%93Q1)., adapted by Stijn)\n",
    "\n",
    "def find_outliers_IQR(df, id_colname, data_colname):\n",
    "\n",
    "    q1=df[data_colname].quantile(0.25)\n",
    "\n",
    "    q3=df[data_colname].quantile(0.75)\n",
    "    \n",
    "    IQR=q3-q1\n",
    "    \n",
    "    outliers = df[((df[data_colname]<(q1-1.5*IQR)) | (df[data_colname]>(q3+1.5*IQR)))][[id_colname, data_colname]]\n",
    "    \n",
    "    return outliers"
   ]
  },
  {
   "cell_type": "code",
   "execution_count": 14,
   "metadata": {},
   "outputs": [],
   "source": [
    "# drop outliers\n",
    "\n",
    "def drop_on_id(df, list_of_ids):\n",
    "    \"\"\"\n",
    "    Example list_of_ids [\"XXXX\", \"XXXX\"]\n",
    "    \"\"\"\n",
    "    df_new = df.copy()\n",
    "    df_new = df_new[~df_new[\"icognition_id\"].isin(list_of_ids)]\n",
    "    return df_new"
   ]
  },
  {
   "cell_type": "markdown",
   "metadata": {},
   "source": [
    "#### Outlier analyses were removed due to privacy reasons"
   ]
  },
  {
   "cell_type": "markdown",
   "metadata": {},
   "source": [
    "# Demographics"
   ]
  },
  {
   "cell_type": "markdown",
   "metadata": {},
   "source": [
    "## Age"
   ]
  },
  {
   "cell_type": "code",
   "execution_count": 15,
   "metadata": {},
   "outputs": [
    {
     "data": {
      "text/plain": [
       "65"
      ]
     },
     "execution_count": 15,
     "metadata": {},
     "output_type": "execute_result"
    }
   ],
   "source": [
    "df_dom_nonan_ms[\"age\"].count()"
   ]
  },
  {
   "cell_type": "code",
   "execution_count": 16,
   "metadata": {},
   "outputs": [
    {
     "data": {
      "text/plain": [
       "81"
      ]
     },
     "execution_count": 16,
     "metadata": {},
     "output_type": "execute_result"
    }
   ],
   "source": [
    "df_dom_nonan_hc[\"age\"].count()"
   ]
  },
  {
   "cell_type": "code",
   "execution_count": 17,
   "metadata": {},
   "outputs": [
    {
     "name": "stdout",
     "output_type": "stream",
     "text": [
      "45.21122689298627\n",
      "46.68658747524158\n",
      "9.37113613531908\n",
      "14.794301063510769\n"
     ]
    },
    {
     "data": {
      "text/plain": [
       "MannwhitneyuResult(statistic=2112.5, pvalue=0.4990711194935152)"
      ]
     },
     "execution_count": 17,
     "metadata": {},
     "output_type": "execute_result"
    }
   ],
   "source": [
    "print(df_dom_nonan_ms[\"age\"].mean())\n",
    "print(df_dom_nonan_hc[\"age\"].mean())\n",
    "print(df_dom_nonan_ms[\"age\"].std())\n",
    "print(df_dom_nonan_hc[\"age\"].std())\n",
    "\n",
    "stats.mannwhitneyu(df_dom_nonan_ms['age'],df_dom_nonan_ms['age'])"
   ]
  },
  {
   "cell_type": "markdown",
   "metadata": {},
   "source": [
    "## Sex"
   ]
  },
  {
   "cell_type": "code",
   "execution_count": 18,
   "metadata": {},
   "outputs": [
    {
     "data": {
      "text/plain": [
       "65"
      ]
     },
     "execution_count": 18,
     "metadata": {},
     "output_type": "execute_result"
    }
   ],
   "source": [
    "df_dom_nonan_ms[\"sex\"].count()"
   ]
  },
  {
   "cell_type": "code",
   "execution_count": 19,
   "metadata": {},
   "outputs": [
    {
     "data": {
      "text/plain": [
       "81"
      ]
     },
     "execution_count": 19,
     "metadata": {},
     "output_type": "execute_result"
    }
   ],
   "source": [
    "df_dom_nonan_hc[\"sex\"].count()"
   ]
  },
  {
   "cell_type": "code",
   "execution_count": 20,
   "metadata": {},
   "outputs": [
    {
     "data": {
      "text/plain": [
       "v    0.646154\n",
       "m    0.353846\n",
       "Name: sex, dtype: float64"
      ]
     },
     "execution_count": 20,
     "metadata": {},
     "output_type": "execute_result"
    }
   ],
   "source": [
    "df_dom_nonan_ms['sex'].value_counts(normalize = True)"
   ]
  },
  {
   "cell_type": "code",
   "execution_count": 21,
   "metadata": {},
   "outputs": [
    {
     "data": {
      "text/plain": [
       "v    0.654321\n",
       "m    0.345679\n",
       "Name: sex, dtype: float64"
      ]
     },
     "execution_count": 21,
     "metadata": {},
     "output_type": "execute_result"
    }
   ],
   "source": [
    "df_dom_nonan_hc['sex'].value_counts(normalize = True)"
   ]
  },
  {
   "cell_type": "code",
   "execution_count": 22,
   "metadata": {},
   "outputs": [],
   "source": [
    "def calculate_chi_square(df1, df2, col_name, labels):\n",
    "    contingency_table = pd.DataFrame({labels[0]: [df1[col_name].value_counts().loc[labels[0]],\n",
    "                                                  df2[col_name].value_counts().loc[labels[0]]],\n",
    "                                      labels[1]: [df1[col_name].value_counts().loc[labels[1]],\n",
    "                                                  df2[col_name].value_counts().loc[labels[1]]]})\n",
    "    chi2, p, _, _ = stats.chi2_contingency(contingency_table.T)\n",
    "    return chi2, p, contingency_table"
   ]
  },
  {
   "cell_type": "code",
   "execution_count": 23,
   "metadata": {},
   "outputs": [
    {
     "name": "stdout",
     "output_type": "stream",
     "text": [
      "0.9427838090935553\n"
     ]
    }
   ],
   "source": [
    "chi2, p, contingency_table_sex = calculate_chi_square(df_dom_nonan_ms, df_dom_nonan_hc, 'sex', ['m', 'v'])\n",
    "print(p)"
   ]
  },
  {
   "cell_type": "markdown",
   "metadata": {},
   "source": [
    "## Education level"
   ]
  },
  {
   "cell_type": "code",
   "execution_count": 24,
   "metadata": {},
   "outputs": [
    {
     "data": {
      "text/plain": [
       "65"
      ]
     },
     "execution_count": 24,
     "metadata": {},
     "output_type": "execute_result"
    }
   ],
   "source": [
    "df_dom_nonan_ms[\"education_n_years\"].count()"
   ]
  },
  {
   "cell_type": "code",
   "execution_count": 25,
   "metadata": {},
   "outputs": [
    {
     "data": {
      "text/plain": [
       "81"
      ]
     },
     "execution_count": 25,
     "metadata": {},
     "output_type": "execute_result"
    }
   ],
   "source": [
    "df_dom_nonan_hc[\"education_n_years\"].count()"
   ]
  },
  {
   "cell_type": "code",
   "execution_count": 26,
   "metadata": {},
   "outputs": [
    {
     "name": "stdout",
     "output_type": "stream",
     "text": [
      "15.0\n",
      "5.0\n"
     ]
    }
   ],
   "source": [
    "print(df_dom_nonan_ms[\"education_n_years\"].median())\n",
    "\n",
    "q1=df_dom_nonan_ms['education_n_years'].quantile(0.25)\n",
    "q3=df_dom_nonan_ms['education_n_years'].quantile(0.75)  \n",
    "IQR=q3-q1\n",
    "print(IQR)"
   ]
  },
  {
   "cell_type": "code",
   "execution_count": 27,
   "metadata": {},
   "outputs": [
    {
     "name": "stdout",
     "output_type": "stream",
     "text": [
      "15.0\n",
      "4.0\n"
     ]
    }
   ],
   "source": [
    "print(df_dom_nonan_hc[\"education_n_years\"].median())\n",
    "\n",
    "q1=df_dom_nonan_hc['education_n_years'].quantile(0.25)\n",
    "q3=df_dom_nonan_hc['education_n_years'].quantile(0.75)  \n",
    "IQR=q3-q1\n",
    "print(IQR)"
   ]
  },
  {
   "cell_type": "code",
   "execution_count": 28,
   "metadata": {},
   "outputs": [
    {
     "data": {
      "text/plain": [
       "MannwhitneyuResult(statistic=2535.0, pvalue=0.3438913704057615)"
      ]
     },
     "execution_count": 28,
     "metadata": {},
     "output_type": "execute_result"
    }
   ],
   "source": [
    "stats.mannwhitneyu(df_dom_nonan_ms['education_n_years'],df_dom_nonan_hc['education_n_years'])"
   ]
  },
  {
   "cell_type": "markdown",
   "metadata": {},
   "source": [
    "## Disease duration"
   ]
  },
  {
   "cell_type": "code",
   "execution_count": 29,
   "metadata": {},
   "outputs": [
    {
     "data": {
      "text/plain": [
       "65"
      ]
     },
     "execution_count": 29,
     "metadata": {},
     "output_type": "execute_result"
    }
   ],
   "source": [
    "df_dom_nonan_ms[\"disease_duration\"].count()"
   ]
  },
  {
   "cell_type": "code",
   "execution_count": 30,
   "metadata": {},
   "outputs": [
    {
     "name": "stdout",
     "output_type": "stream",
     "text": [
      "12.1\n",
      "7.431562756244478\n"
     ]
    }
   ],
   "source": [
    "print(df_dom_nonan_ms[\"disease_duration\"].mean())\n",
    "print(df_dom_nonan_ms[\"disease_duration\"].std())"
   ]
  },
  {
   "cell_type": "markdown",
   "metadata": {},
   "source": [
    "## Disease type"
   ]
  },
  {
   "cell_type": "code",
   "execution_count": 31,
   "metadata": {},
   "outputs": [
    {
     "data": {
      "text/plain": [
       "65"
      ]
     },
     "execution_count": 31,
     "metadata": {},
     "output_type": "execute_result"
    }
   ],
   "source": [
    "df_dom_nonan_ms[\"type_ms\"].count()"
   ]
  },
  {
   "cell_type": "code",
   "execution_count": 32,
   "metadata": {},
   "outputs": [
    {
     "data": {
      "text/plain": [
       "rrms    0.892308\n",
       "spms    0.061538\n",
       "ppms    0.046154\n",
       "Name: type_ms, dtype: float64"
      ]
     },
     "execution_count": 32,
     "metadata": {},
     "output_type": "execute_result"
    }
   ],
   "source": [
    "df_dom_nonan_ms['type_ms'].value_counts(normalize = True)"
   ]
  },
  {
   "cell_type": "markdown",
   "metadata": {},
   "source": [
    "## EDSS"
   ]
  },
  {
   "cell_type": "code",
   "execution_count": 33,
   "metadata": {},
   "outputs": [
    {
     "data": {
      "text/plain": [
       "60"
      ]
     },
     "execution_count": 33,
     "metadata": {},
     "output_type": "execute_result"
    }
   ],
   "source": [
    "df_dom_nonan_ms[\"edss\"].count()"
   ]
  },
  {
   "cell_type": "code",
   "execution_count": 34,
   "metadata": {},
   "outputs": [
    {
     "name": "stdout",
     "output_type": "stream",
     "text": [
      "3.0\n",
      "1.6156018975989797\n",
      "2.75\n",
      "2.0\n"
     ]
    }
   ],
   "source": [
    "print(df_dom_nonan_ms[\"edss\"].mean())\n",
    "print(df_dom_nonan_ms[\"edss\"].std())\n",
    "\n",
    "print(df_dom_nonan_ms[\"edss\"].median())\n",
    "q1=df_dom_nonan_ms['edss'].quantile(0.25)\n",
    "q3=df_dom_nonan_ms['edss'].quantile(0.75)\n",
    "IQR=q3-q1\n",
    "print(IQR)"
   ]
  },
  {
   "cell_type": "markdown",
   "metadata": {},
   "source": [
    "## Visual problems"
   ]
  },
  {
   "cell_type": "code",
   "execution_count": 35,
   "metadata": {},
   "outputs": [
    {
     "data": {
      "text/plain": [
       "65"
      ]
     },
     "execution_count": 35,
     "metadata": {},
     "output_type": "execute_result"
    }
   ],
   "source": [
    "df_dom_nonan_ms[\"visual_problems\"].count()"
   ]
  },
  {
   "cell_type": "code",
   "execution_count": 36,
   "metadata": {},
   "outputs": [
    {
     "data": {
      "text/plain": [
       "no     0.953846\n",
       "yes    0.046154\n",
       "Name: visual_problems, dtype: float64"
      ]
     },
     "execution_count": 36,
     "metadata": {},
     "output_type": "execute_result"
    }
   ],
   "source": [
    "df_dom_nonan_ms['visual_problems'].value_counts(normalize = True)"
   ]
  },
  {
   "cell_type": "code",
   "execution_count": 37,
   "metadata": {},
   "outputs": [
    {
     "data": {
      "text/plain": [
       "no    1.0\n",
       "Name: visual_problems, dtype: float64"
      ]
     },
     "execution_count": 37,
     "metadata": {},
     "output_type": "execute_result"
    }
   ],
   "source": [
    "df_dom_nonan_hc['visual_problems'].value_counts(normalize = True)"
   ]
  },
  {
   "cell_type": "markdown",
   "metadata": {},
   "source": [
    "## Manual problems"
   ]
  },
  {
   "cell_type": "code",
   "execution_count": 38,
   "metadata": {},
   "outputs": [
    {
     "data": {
      "text/plain": [
       "no     0.923077\n",
       "yes    0.076923\n",
       "Name: manual_problems, dtype: float64"
      ]
     },
     "execution_count": 38,
     "metadata": {},
     "output_type": "execute_result"
    }
   ],
   "source": [
    "df_dom_nonan_ms['manual_problems'].value_counts(normalize = True)"
   ]
  },
  {
   "cell_type": "code",
   "execution_count": 39,
   "metadata": {},
   "outputs": [
    {
     "data": {
      "text/plain": [
       "no     0.950617\n",
       "yes    0.049383\n",
       "Name: manual_problems, dtype: float64"
      ]
     },
     "execution_count": 39,
     "metadata": {},
     "output_type": "execute_result"
    }
   ],
   "source": [
    "df_dom_nonan_hc['manual_problems'].value_counts(normalize = True)"
   ]
  },
  {
   "cell_type": "code",
   "execution_count": 40,
   "metadata": {},
   "outputs": [
    {
     "data": {
      "text/plain": [
       "(0.11658868301204077,\n",
       " 0.7327641998165242,\n",
       "    yes  no\n",
       " 0    5  60\n",
       " 1    4  77)"
      ]
     },
     "execution_count": 40,
     "metadata": {},
     "output_type": "execute_result"
    }
   ],
   "source": [
    "calculate_chi_square(df_dom_nonan_ms, df_dom_nonan_hc, 'manual_problems', ['yes', 'no'])"
   ]
  },
  {
   "cell_type": "markdown",
   "metadata": {},
   "source": [
    "## Righthandedness"
   ]
  },
  {
   "cell_type": "code",
   "execution_count": 41,
   "metadata": {},
   "outputs": [
    {
     "data": {
      "text/plain": [
       "right    0.892308\n",
       "left     0.107692\n",
       "Name: nhpt_dom_hand, dtype: float64"
      ]
     },
     "execution_count": 41,
     "metadata": {},
     "output_type": "execute_result"
    }
   ],
   "source": [
    "df_dom_nonan_ms['nhpt_dom_hand'].value_counts(normalize = True)"
   ]
  },
  {
   "cell_type": "code",
   "execution_count": 42,
   "metadata": {},
   "outputs": [
    {
     "data": {
      "text/plain": [
       "right    0.876543\n",
       "left     0.123457\n",
       "Name: nhpt_dom_hand, dtype: float64"
      ]
     },
     "execution_count": 42,
     "metadata": {},
     "output_type": "execute_result"
    }
   ],
   "source": [
    "df_dom_nonan_hc['nhpt_dom_hand'].value_counts(normalize = True)"
   ]
  },
  {
   "cell_type": "code",
   "execution_count": 43,
   "metadata": {},
   "outputs": [
    {
     "data": {
      "text/plain": [
       "(0.001264491308570942,\n",
       " 0.9716334534376803,\n",
       "    right  left\n",
       " 0     58     7\n",
       " 1     71    10)"
      ]
     },
     "execution_count": 43,
     "metadata": {},
     "output_type": "execute_result"
    }
   ],
   "source": [
    "calculate_chi_square(df_dom_nonan_ms, df_dom_nonan_hc, 'nhpt_dom_hand', ['right', 'left'])"
   ]
  },
  {
   "cell_type": "markdown",
   "metadata": {},
   "source": [
    "## NHPT"
   ]
  },
  {
   "cell_type": "markdown",
   "metadata": {},
   "source": [
    "### Dominant"
   ]
  },
  {
   "cell_type": "code",
   "execution_count": 44,
   "metadata": {},
   "outputs": [
    {
     "data": {
      "text/plain": [
       "65"
      ]
     },
     "execution_count": 44,
     "metadata": {},
     "output_type": "execute_result"
    }
   ],
   "source": [
    "df_dom_nonan_ms[\"nhpt_avg_dom\"].count()"
   ]
  },
  {
   "cell_type": "code",
   "execution_count": 45,
   "metadata": {},
   "outputs": [
    {
     "data": {
      "text/plain": [
       "81"
      ]
     },
     "execution_count": 45,
     "metadata": {},
     "output_type": "execute_result"
    }
   ],
   "source": [
    "df_dom_nonan_hc[\"nhpt_avg_dom\"].count()"
   ]
  },
  {
   "cell_type": "code",
   "execution_count": 46,
   "metadata": {},
   "outputs": [
    {
     "name": "stdout",
     "output_type": "stream",
     "text": [
      "22.933316831683168\n",
      "19.313271604938265\n"
     ]
    },
    {
     "data": {
      "text/plain": [
       "MannwhitneyuResult(statistic=3626.0, pvalue=0.09448102888032212)"
      ]
     },
     "execution_count": 46,
     "metadata": {},
     "output_type": "execute_result"
    }
   ],
   "source": [
    "print(df_ms[\"nhpt_avg_dom\"].mean())\n",
    "print(df_hc[\"nhpt_avg_dom\"].mean())\n",
    "\n",
    "stats.mannwhitneyu(df_ms['nhpt_avg_dom'].dropna(),df_hc['nhpt_avg_dom'].dropna())"
   ]
  },
  {
   "cell_type": "code",
   "execution_count": 47,
   "metadata": {},
   "outputs": [
    {
     "name": "stdout",
     "output_type": "stream",
     "text": [
      "19.58446153846154\n",
      "19.313271604938265\n",
      "4.314672380656941\n",
      "3.3863820258955784\n"
     ]
    },
    {
     "data": {
      "text/plain": [
       "MannwhitneyuResult(statistic=2619.0, pvalue=0.47958738490521935)"
      ]
     },
     "execution_count": 47,
     "metadata": {},
     "output_type": "execute_result"
    }
   ],
   "source": [
    "# only subjects with dominant FDT included\n",
    "print(df_dom_nonan_ms[\"nhpt_avg_dom\"].mean())\n",
    "print(df_dom_nonan_hc[\"nhpt_avg_dom\"].mean())\n",
    "print(df_dom_nonan_ms[\"nhpt_avg_dom\"].std())\n",
    "print(df_dom_nonan_hc[\"nhpt_avg_dom\"].std())\n",
    "\n",
    "stats.mannwhitneyu(df_dom_nonan_ms['nhpt_avg_dom'].dropna(),df_dom_nonan_hc['nhpt_avg_dom'].dropna())"
   ]
  },
  {
   "cell_type": "markdown",
   "metadata": {},
   "source": [
    "#### no outliers"
   ]
  },
  {
   "cell_type": "code",
   "execution_count": 48,
   "metadata": {},
   "outputs": [],
   "source": [
    "# print(df_dom_nooutliers_ms[\"nhpt_avg_dom\"].mean())\n",
    "# print(df_dom_nooutliers_hc[\"nhpt_avg_dom\"].mean())\n",
    "# print(df_dom_nooutliers_ms[\"nhpt_avg_dom\"].std())\n",
    "# print(df_dom_nooutliers_hc[\"nhpt_avg_dom\"].std())\n",
    "\n",
    "# stats.mannwhitneyu(df_dom_nooutliers_ms['nhpt_avg_dom'].dropna(),df_dom_nooutliers_hc['nhpt_avg_dom'].dropna())"
   ]
  },
  {
   "cell_type": "markdown",
   "metadata": {},
   "source": [
    "### Non-dominant"
   ]
  },
  {
   "cell_type": "code",
   "execution_count": 49,
   "metadata": {},
   "outputs": [
    {
     "data": {
      "text/plain": [
       "65"
      ]
     },
     "execution_count": 49,
     "metadata": {},
     "output_type": "execute_result"
    }
   ],
   "source": [
    "df_dom_nonan_ms[\"nhpt_avg_ndom\"].count()"
   ]
  },
  {
   "cell_type": "code",
   "execution_count": 50,
   "metadata": {},
   "outputs": [
    {
     "data": {
      "text/plain": [
       "81"
      ]
     },
     "execution_count": 50,
     "metadata": {},
     "output_type": "execute_result"
    }
   ],
   "source": [
    "df_dom_nonan_hc[\"nhpt_avg_ndom\"].count()"
   ]
  },
  {
   "cell_type": "code",
   "execution_count": 51,
   "metadata": {},
   "outputs": [
    {
     "name": "stdout",
     "output_type": "stream",
     "text": [
      "21.549950495049504\n",
      "19.9587037037037\n"
     ]
    },
    {
     "data": {
      "text/plain": [
       "MannwhitneyuResult(statistic=3229.0, pvalue=0.007391892560384442)"
      ]
     },
     "execution_count": 51,
     "metadata": {},
     "output_type": "execute_result"
    }
   ],
   "source": [
    "print(df_ms[\"nhpt_avg_ndom\"].mean())\n",
    "print(df_hc[\"nhpt_avg_ndom\"].mean())\n",
    "\n",
    "stats.mannwhitneyu(df_ms['nhpt_avg_ndom'].dropna(), df_hc['nhpt_avg_ndom'].dropna())"
   ]
  },
  {
   "cell_type": "code",
   "execution_count": 52,
   "metadata": {},
   "outputs": [
    {
     "name": "stdout",
     "output_type": "stream",
     "text": [
      "21.201384615384626\n",
      "19.9587037037037\n",
      "4.810792108284728\n",
      "3.0293725400008347\n"
     ]
    },
    {
     "data": {
      "text/plain": [
       "MannwhitneyuResult(statistic=2254.5, pvalue=0.06857843559047885)"
      ]
     },
     "execution_count": 52,
     "metadata": {},
     "output_type": "execute_result"
    }
   ],
   "source": [
    "# only subjects with dominant FDT included\n",
    "print(df_dom_nonan_ms[\"nhpt_avg_ndom\"].mean())\n",
    "print(df_dom_nonan_hc[\"nhpt_avg_ndom\"].mean())\n",
    "print(df_dom_nonan_ms[\"nhpt_avg_ndom\"].std())\n",
    "print(df_dom_nonan_hc[\"nhpt_avg_ndom\"].std())\n",
    "\n",
    "stats.mannwhitneyu(df_dom_nonan_ms['nhpt_avg_ndom'].dropna(),df_dom_nonan_hc['nhpt_avg_ndom'].dropna())"
   ]
  },
  {
   "cell_type": "markdown",
   "metadata": {},
   "source": [
    "#### no outliers"
   ]
  },
  {
   "cell_type": "code",
   "execution_count": 53,
   "metadata": {},
   "outputs": [],
   "source": [
    "# print(df_ndom_nooutliers_ms[\"nhpt_avg_ndom\"].mean())\n",
    "# print(df_ndom_nooutliers_hc[\"nhpt_avg_ndom\"].mean())\n",
    "\n",
    "# stats.mannwhitneyu(df_ndom_nooutliers_ms['nhpt_avg_ndom'].dropna(),df_ndom_nooutliers_hc['nhpt_avg_ndom'].dropna())"
   ]
  },
  {
   "cell_type": "markdown",
   "metadata": {},
   "source": [
    "## BDI"
   ]
  },
  {
   "cell_type": "code",
   "execution_count": 54,
   "metadata": {},
   "outputs": [
    {
     "data": {
      "text/plain": [
       "63"
      ]
     },
     "execution_count": 54,
     "metadata": {},
     "output_type": "execute_result"
    }
   ],
   "source": [
    "df_dom_nonan_ms[\"bdi_total\"].count()"
   ]
  },
  {
   "cell_type": "code",
   "execution_count": 55,
   "metadata": {},
   "outputs": [
    {
     "data": {
      "text/plain": [
       "80"
      ]
     },
     "execution_count": 55,
     "metadata": {},
     "output_type": "execute_result"
    }
   ],
   "source": [
    "df_dom_nonan_hc[\"bdi_total\"].count()"
   ]
  },
  {
   "cell_type": "code",
   "execution_count": 56,
   "metadata": {},
   "outputs": [
    {
     "name": "stdout",
     "output_type": "stream",
     "text": [
      "9.253968253968255\n",
      "5.6875\n",
      "4.9740236648342115\n",
      "5.0405790053188095\n"
     ]
    },
    {
     "data": {
      "text/plain": [
       "MannwhitneyuResult(statistic=1423.0, pvalue=3.8702868938898875e-06)"
      ]
     },
     "execution_count": 56,
     "metadata": {},
     "output_type": "execute_result"
    }
   ],
   "source": [
    "print(df_dom_nonan_ms[\"bdi_total\"].mean())\n",
    "print(df_dom_nonan_hc[\"bdi_total\"].mean())\n",
    "print(df_dom_nonan_ms[\"bdi_total\"].std())\n",
    "print(df_dom_nonan_hc[\"bdi_total\"].std())\n",
    "\n",
    "stats.mannwhitneyu(df_dom_nonan_ms['bdi_total'].dropna(), df_dom_nonan_hc['bdi_total'].dropna())"
   ]
  },
  {
   "cell_type": "markdown",
   "metadata": {},
   "source": [
    "## FSMC"
   ]
  },
  {
   "cell_type": "code",
   "execution_count": 57,
   "metadata": {},
   "outputs": [
    {
     "data": {
      "text/plain": [
       "63"
      ]
     },
     "execution_count": 57,
     "metadata": {},
     "output_type": "execute_result"
    }
   ],
   "source": [
    "df_dom_nonan_ms[\"fsmc_total\"].count()"
   ]
  },
  {
   "cell_type": "code",
   "execution_count": 58,
   "metadata": {},
   "outputs": [
    {
     "data": {
      "text/plain": [
       "74"
      ]
     },
     "execution_count": 58,
     "metadata": {},
     "output_type": "execute_result"
    }
   ],
   "source": [
    "df_dom_nonan_hc[\"fsmc_total\"].count()"
   ]
  },
  {
   "cell_type": "code",
   "execution_count": 59,
   "metadata": {},
   "outputs": [
    {
     "name": "stdout",
     "output_type": "stream",
     "text": [
      "57.142857142857146\n",
      "39.86486486486486\n",
      "16.88944807331483\n",
      "12.135450530183435\n"
     ]
    },
    {
     "data": {
      "text/plain": [
       "MannwhitneyuResult(statistic=971.0, pvalue=2.135518686815209e-09)"
      ]
     },
     "execution_count": 59,
     "metadata": {},
     "output_type": "execute_result"
    }
   ],
   "source": [
    "print(df_dom_nonan_ms[\"fsmc_total\"].mean())\n",
    "print(df_dom_nonan_hc[\"fsmc_total\"].mean())\n",
    "print(df_dom_nonan_ms[\"fsmc_total\"].std())\n",
    "print(df_dom_nonan_hc[\"fsmc_total\"].std())\n",
    "\n",
    "stats.mannwhitneyu(df_dom_nonan_ms['fsmc_total'].dropna(), df_dom_nonan_hc['fsmc_total'].dropna())"
   ]
  },
  {
   "cell_type": "markdown",
   "metadata": {},
   "source": [
    "# 1. Concurrent validity: correlation between NHPT & FDT"
   ]
  },
  {
   "cell_type": "code",
   "execution_count": 60,
   "metadata": {},
   "outputs": [],
   "source": [
    "# calculate Pearson or Spearman correlation\n",
    "\n",
    "def calculate_correlation(df, varname_1, varname_2, method):\n",
    "    df_filtered = df[(df[varname_1].notna()) & (df[varname_2].notna())]\n",
    "    n = df_filtered.shape[0]\n",
    "    if method == 'Pearson':\n",
    "        r, p = stats.pearsonr(df_filtered[varname_1], df_filtered[varname_2])\n",
    "    elif method == 'Spearman':\n",
    "        r, p = stats.spearmanr(df_filtered[varname_1], df_filtered[varname_2])\n",
    "    print(f'{method} correlation between {varname_1} and {varname_2}: r = {r}, p = {p}')"
   ]
  },
  {
   "cell_type": "markdown",
   "metadata": {},
   "source": [
    "## All subjects"
   ]
  },
  {
   "cell_type": "code",
   "execution_count": 61,
   "metadata": {},
   "outputs": [
    {
     "data": {
      "image/png": "[encoded data removed]",
      "text/plain": [
       "<Figure size 432x288 with 1 Axes>"
      ]
     },
     "metadata": {
      "needs_background": "light"
     },
     "output_type": "display_data"
    },
    {
     "data": {
      "image/png": "[encoded data removed]",
      "text/plain": [
       "<Figure size 432x288 with 1 Axes>"
      ]
     },
     "metadata": {
      "needs_background": "light"
     },
     "output_type": "display_data"
    },
    {
     "data": {
      "image/png": "[encoded data removed]",
      "text/plain": [
       "<Figure size 432x288 with 1 Axes>"
      ]
     },
     "metadata": {
      "needs_background": "light"
     },
     "output_type": "display_data"
    },
    {
     "data": {
      "image/png": "[encoded data removed]",
      "text/plain": [
       "<Figure size 432x288 with 1 Axes>"
      ]
     },
     "metadata": {
      "needs_background": "light"
     },
     "output_type": "display_data"
    },
    {
     "data": {
      "image/png": "[encoded data removed]",
      "text/plain": [
       "<Figure size 432x288 with 1 Axes>"
      ]
     },
     "metadata": {
      "needs_background": "light"
     },
     "output_type": "display_data"
    },
    {
     "data": {
      "image/png": "[encoded data removed]",
      "text/plain": [
       "<Figure size 432x288 with 1 Axes>"
      ]
     },
     "metadata": {
      "needs_background": "light"
     },
     "output_type": "display_data"
    }
   ],
   "source": [
    "vars_to_plot = ['egg_test_dom_time_total', 'egg_test_ndom_time_total', 'nhpt_avg_dom', 'nhpt_avg_ndom', 'bdi_total', 'fsmc_total']\n",
    "\n",
    "for var_to_plot in vars_to_plot:\n",
    "    plt.hist(df_incl[var_to_plot], bins = 50)\n",
    "    plt.title(var_to_plot)\n",
    "    plt.show()"
   ]
  },
  {
   "cell_type": "code",
   "execution_count": 62,
   "metadata": {},
   "outputs": [
    {
     "name": "stdout",
     "output_type": "stream",
     "text": [
      "Spearman correlation between egg_test_dom_time_total and nhpt_avg_dom: r = 0.4176588822259493, p = 1.563241826075777e-07\n",
      "Spearman correlation between egg_test_ndom_time_total and nhpt_avg_ndom: r = 0.46038266171945225, p = 1.181905426052152e-08\n"
     ]
    }
   ],
   "source": [
    "calculate_correlation(df_incl, 'egg_test_dom_time_total', 'nhpt_avg_dom', 'Spearman')\n",
    "calculate_correlation(df_incl, 'egg_test_ndom_time_total', 'nhpt_avg_ndom', 'Spearman')"
   ]
  },
  {
   "cell_type": "markdown",
   "metadata": {},
   "source": [
    "## MS & HC subjects"
   ]
  },
  {
   "cell_type": "code",
   "execution_count": 63,
   "metadata": {},
   "outputs": [
    {
     "data": {
      "image/png": "[encoded data removed]",
      "text/plain": [
       "<Figure size 432x288 with 1 Axes>"
      ]
     },
     "metadata": {
      "needs_background": "light"
     },
     "output_type": "display_data"
    },
    {
     "data": {
      "image/png": "[encoded data removed]",
      "text/plain": [
       "<Figure size 432x288 with 1 Axes>"
      ]
     },
     "metadata": {
      "needs_background": "light"
     },
     "output_type": "display_data"
    },
    {
     "data": {
      "image/png": "[encoded data removed]",
      "text/plain": [
       "<Figure size 432x288 with 1 Axes>"
      ]
     },
     "metadata": {
      "needs_background": "light"
     },
     "output_type": "display_data"
    },
    {
     "data": {
      "image/png": "[encoded data removed]",
      "text/plain": [
       "<Figure size 432x288 with 1 Axes>"
      ]
     },
     "metadata": {
      "needs_background": "light"
     },
     "output_type": "display_data"
    },
    {
     "data": {
      "image/png": "[encoded data removed]",
      "text/plain": [
       "<Figure size 432x288 with 1 Axes>"
      ]
     },
     "metadata": {
      "needs_background": "light"
     },
     "output_type": "display_data"
    },
    {
     "data": {
      "image/png": "[encoded data removed]",
      "text/plain": [
       "<Figure size 432x288 with 1 Axes>"
      ]
     },
     "metadata": {
      "needs_background": "light"
     },
     "output_type": "display_data"
    },
    {
     "data": {
      "image/png": "[encoded data removed]",
      "text/plain": [
       "<Figure size 432x288 with 1 Axes>"
      ]
     },
     "metadata": {
      "needs_background": "light"
     },
     "output_type": "display_data"
    },
    {
     "data": {
      "image/png": "[encoded data removed]",
      "text/plain": [
       "<Figure size 432x288 with 1 Axes>"
      ]
     },
     "metadata": {
      "needs_background": "light"
     },
     "output_type": "display_data"
    },
    {
     "data": {
      "image/png": "[encoded data removed]",
      "text/plain": [
       "<Figure size 432x288 with 1 Axes>"
      ]
     },
     "metadata": {
      "needs_background": "light"
     },
     "output_type": "display_data"
    },
    {
     "data": {
      "image/png": "[encoded data removed]",
      "text/plain": [
       "<Figure size 432x288 with 1 Axes>"
      ]
     },
     "metadata": {
      "needs_background": "light"
     },
     "output_type": "display_data"
    },
    {
     "data": {
      "image/png": "[encoded data removed]",
      "text/plain": [
       "<Figure size 432x288 with 1 Axes>"
      ]
     },
     "metadata": {
      "needs_background": "light"
     },
     "output_type": "display_data"
    },
    {
     "data": {
      "image/png": "[encoded data removed]",
      "text/plain": [
       "<Figure size 432x288 with 1 Axes>"
      ]
     },
     "metadata": {
      "needs_background": "light"
     },
     "output_type": "display_data"
    }
   ],
   "source": [
    "for var_to_plot in vars_to_plot:\n",
    "    plt.hist(df_ms[var_to_plot], bins = 50)\n",
    "    plt.title(var_to_plot)\n",
    "    plt.show()\n",
    "\n",
    "for var_to_plot in vars_to_plot:\n",
    "    plt.hist(df_hc[var_to_plot], bins = 50)\n",
    "    plt.title(var_to_plot)\n",
    "    plt.show()"
   ]
  },
  {
   "cell_type": "code",
   "execution_count": 64,
   "metadata": {},
   "outputs": [
    {
     "name": "stdout",
     "output_type": "stream",
     "text": [
      "Spearman correlation between egg_test_dom_time_total and nhpt_avg_dom: r = 0.6248606832935103, p = 2.6463832020214022e-08\n",
      "Spearman correlation between egg_test_ndom_time_total and nhpt_avg_ndom: r = 0.519933555063277, p = 2.878442535918934e-05\n",
      "Spearman correlation between egg_test_dom_time_total and nhpt_avg_dom: r = 0.2779825992738483, p = 0.011981352242456918\n",
      "Spearman correlation between egg_test_ndom_time_total and nhpt_avg_ndom: r = 0.36633844134214694, p = 0.0008988188562323208\n"
     ]
    }
   ],
   "source": [
    "calculate_correlation(df_dom_nonan_ms, 'egg_test_dom_time_total', 'nhpt_avg_dom', 'Spearman')\n",
    "calculate_correlation(df_dom_nonan_ms, 'egg_test_ndom_time_total', 'nhpt_avg_ndom', 'Spearman')\n",
    "calculate_correlation(df_dom_nonan_hc, 'egg_test_dom_time_total', 'nhpt_avg_dom', 'Spearman')\n",
    "calculate_correlation(df_dom_nonan_hc, 'egg_test_ndom_time_total', 'nhpt_avg_ndom', 'Spearman')"
   ]
  },
  {
   "cell_type": "markdown",
   "metadata": {},
   "source": [
    "### Exclusion of outliers & lag in FDT"
   ]
  },
  {
   "cell_type": "code",
   "execution_count": 65,
   "metadata": {},
   "outputs": [],
   "source": [
    "# calculate_correlation(df_dom_nooutliers_ms, 'egg_test_dom_time_total', 'nhpt_avg_dom', 'Spearman')\n",
    "# calculate_correlation(df_ndom_nooutliers_ms, 'egg_test_ndom_time_total', 'nhpt_avg_ndom', 'Spearman')\n",
    "# calculate_correlation(df_dom_nooutliers_hc, 'egg_test_dom_time_total', 'nhpt_avg_dom', 'Spearman')\n",
    "# calculate_correlation(df_ndom_nooutliers_hc, 'egg_test_ndom_time_total', 'nhpt_avg_ndom', 'Spearman')"
   ]
  },
  {
   "cell_type": "code",
   "execution_count": 66,
   "metadata": {},
   "outputs": [
    {
     "name": "stdout",
     "output_type": "stream",
     "text": [
      "Spearman correlation between egg_test_dom_time_total and nhpt_avg_dom: r = 0.6547217589008201, p = 5.860720181250474e-09\n",
      "Spearman correlation between egg_test_ndom_time_total and nhpt_avg_ndom: r = 0.5634305404413077, p = 4.129487946142951e-06\n",
      "Spearman correlation between egg_test_dom_time_total and nhpt_avg_dom: r = 0.328124666613325, p = 0.004053835958976255\n",
      "Spearman correlation between egg_test_ndom_time_total and nhpt_avg_ndom: r = 0.31664686920448604, p = 0.006345940264915767\n"
     ]
    }
   ],
   "source": [
    "calculate_correlation(df_dom_nolag_ms, 'egg_test_dom_time_total', 'nhpt_avg_dom', 'Spearman')\n",
    "calculate_correlation(df_ndom_nolag_ms, 'egg_test_ndom_time_total', 'nhpt_avg_ndom', 'Spearman')\n",
    "calculate_correlation(df_dom_nolag_hc, 'egg_test_dom_time_total', 'nhpt_avg_dom', 'Spearman')\n",
    "calculate_correlation(df_ndom_nolag_hc, 'egg_test_ndom_time_total', 'nhpt_avg_ndom', 'Spearman')"
   ]
  },
  {
   "cell_type": "markdown",
   "metadata": {},
   "source": [
    "### Plots"
   ]
  },
  {
   "cell_type": "code",
   "execution_count": 67,
   "metadata": {
    "scrolled": true
   },
   "outputs": [
    {
     "data": {
      "image/png": "[encoded data removed]",
      "text/plain": [
       "<Figure size 720x1440 with 1 Axes>"
      ]
     },
     "metadata": {
      "needs_background": "light"
     },
     "output_type": "display_data"
    }
   ],
   "source": [
    "fig, ax = plt.subplots(1, 1, sharey = True, figsize=(10,20))\n",
    "sns.scatterplot(x = 'egg_test_dom_time_total', y = 'nhpt_avg_dom', data = df_dom_nonan_ms, ax = ax, ci = False, label = 'Dominant')\n",
    "sns.scatterplot(x = 'egg_test_ndom_time_total', y = 'nhpt_avg_ndom', data = df_dom_nonan_ms, ax = ax, ci = False, label = 'Non-dominant')\n",
    "# sns.scatterplot(x = 'egg_test_dom_time_total', y = 'nhpt_avg_dom', data = df_dom_nooutliers_ms, ax = ax[1], ci = False, label = 'Dominant')\n",
    "# sns.scatterplot(x = 'egg_test_ndom_time_total', y = 'nhpt_avg_ndom', data = df_ndom_nooutliers_ms, ax = ax[1], ci = False, label = 'Non-dominant')\n",
    "ax.legend(bbox_to_anchor=(1.04, 0.5), loc=\"center left\")\n",
    "#ax[1].legend(bbox_to_anchor=(1.04, 0.5), loc=\"center left\")\n",
    "\n",
    "ax.set_xlabel(\"FDT (seconds)\")\n",
    "#ax[1].set_xlabel(\"FDT (seconds\")\n",
    "ax.set_ylabel(\"9HPT (seconds)\")\n",
    "#ax[1].set_ylabel(\"9HPT (seconds)\")\n",
    "ax.set_title(\"PwMS\")\n",
    "#ax[1].set_title(\"PwMS\")\n",
    "\n",
    "plt.xlim(0, None)\n",
    "plt.ylim(0, None)\n",
    "\n",
    "plt.savefig(\"Concurrent validity - MS - final.jpg\", dpi = 300, bbox_inches = \"tight\")"
   ]
  },
  {
   "cell_type": "code",
   "execution_count": 68,
   "metadata": {
    "scrolled": true
   },
   "outputs": [
    {
     "data": {
      "image/png": "[encoded data removed]",
      "text/plain": [
       "<Figure size 720x1440 with 1 Axes>"
      ]
     },
     "metadata": {
      "needs_background": "light"
     },
     "output_type": "display_data"
    }
   ],
   "source": [
    "fig, ax = plt.subplots(1, 1, sharey = True, figsize=(10,20))\n",
    "sns.scatterplot(x = 'egg_test_dom_time_total', y = 'nhpt_avg_dom', data = df_dom_nonan_hc, ax = ax, ci = False, label = 'Dominant')\n",
    "sns.scatterplot(x = 'egg_test_ndom_time_total', y = 'nhpt_avg_ndom', data = df_dom_nonan_hc, ax = ax, ci = False, label = 'Non-dominant')\n",
    "# sns.scatterplot(x = 'egg_test_dom_time_total', y = 'nhpt_avg_dom', data = df_dom_nooutliers_hc, ax = ax[1], ci = False, label = 'Dominant')\n",
    "# sns.scatterplot(x = 'egg_test_ndom_time_total', y = 'nhpt_avg_ndom', data = df_ndom_nooutliers_hc, ax = ax[1], ci = False, label = 'Non-dominant')\n",
    "ax.legend(bbox_to_anchor=(1.04, 0.5), loc=\"center left\")\n",
    "#ax[1].legend(bbox_to_anchor=(1.04, 0.5), loc=\"center left\")\n",
    "\n",
    "ax.set_xlabel(\"FDT (seconds)\")\n",
    "#ax[1].set_xlabel(\"FDT (seconds)\")\n",
    "ax.set_ylabel(\"9HPT (seconds)\")\n",
    "#ax[1].set_ylabel(\"9HPT (seconds)\")\n",
    "ax.set_title(\"HC\")\n",
    "#ax[1].set_title(\"HC\")\n",
    "\n",
    "plt.xlim(0, None)\n",
    "plt.ylim(0, None)\n",
    "\n",
    "plt.savefig(\"Concurrent validity - HC - final.jpg\", dpi = 300, bbox_inches = \"tight\")"
   ]
  },
  {
   "cell_type": "markdown",
   "metadata": {},
   "source": [
    "# 2. Capacity to differentiate between MS & HC"
   ]
  },
  {
   "cell_type": "code",
   "execution_count": 69,
   "metadata": {},
   "outputs": [
    {
     "name": "stdout",
     "output_type": "stream",
     "text": [
      "64.50896923076924\n",
      "54.428617283950636\n",
      "50.2584609185885\n",
      "34.12439804801247\n"
     ]
    },
    {
     "data": {
      "text/plain": [
       "MannwhitneyuResult(statistic=2084.0, pvalue=0.015471279398017396)"
      ]
     },
     "execution_count": 69,
     "metadata": {},
     "output_type": "execute_result"
    }
   ],
   "source": [
    "print(df_dom_nonan_ms[\"egg_test_dom_time_total\"].mean())\n",
    "print(df_dom_nonan_hc[\"egg_test_dom_time_total\"].mean())\n",
    "print(df_dom_nonan_ms[\"egg_test_dom_time_total\"].std())\n",
    "print(df_dom_nonan_hc[\"egg_test_dom_time_total\"].std())\n",
    "\n",
    "stats.mannwhitneyu(df_dom_nonan_ms['egg_test_dom_time_total'],df_dom_nonan_hc['egg_test_dom_time_total'])"
   ]
  },
  {
   "cell_type": "code",
   "execution_count": 70,
   "metadata": {},
   "outputs": [
    {
     "name": "stdout",
     "output_type": "stream",
     "text": [
      "61.64270689655171\n",
      "55.01708860759493\n",
      "45.52198304926033\n",
      "29.162981974515127\n"
     ]
    },
    {
     "data": {
      "text/plain": [
       "MannwhitneyuResult(statistic=2069.0, pvalue=0.013315824798388791)"
      ]
     },
     "execution_count": 70,
     "metadata": {},
     "output_type": "execute_result"
    }
   ],
   "source": [
    "print(df_dom_nonan_ms[\"egg_test_ndom_time_total\"].mean())\n",
    "print(df_dom_nonan_hc[\"egg_test_ndom_time_total\"].mean())\n",
    "print(df_dom_nonan_ms[\"egg_test_ndom_time_total\"].std())\n",
    "print(df_dom_nonan_hc[\"egg_test_ndom_time_total\"].std())\n",
    "\n",
    "stats.mannwhitneyu(df_dom_nonan_ms['egg_test_ndom_time_total'],df_dom_nonan_hc['egg_test_ndom_time_total'])"
   ]
  },
  {
   "cell_type": "markdown",
   "metadata": {},
   "source": [
    "### Without lag on FDT"
   ]
  },
  {
   "cell_type": "code",
   "execution_count": 71,
   "metadata": {},
   "outputs": [
    {
     "name": "stdout",
     "output_type": "stream",
     "text": [
      "64.49690476190476\n",
      "52.50892000000002\n",
      "51.04333488312439\n",
      "32.62007657818244\n"
     ]
    },
    {
     "data": {
      "text/plain": [
       "MannwhitneyuResult(statistic=1789.0, pvalue=2.5496574037543818e-09)"
      ]
     },
     "execution_count": 71,
     "metadata": {},
     "output_type": "execute_result"
    }
   ],
   "source": [
    "print(df_dom_nolag_ms[\"egg_test_dom_time_total\"].mean())\n",
    "print(df_dom_nolag_hc[\"egg_test_dom_time_total\"].mean())\n",
    "print(df_dom_nolag_ms[\"egg_test_dom_time_total\"].std())\n",
    "print(df_dom_nolag_hc[\"egg_test_dom_time_total\"].std())\n",
    "\n",
    "stats.mannwhitneyu(df_dom_nolag_ms['egg_test_dom_time_total'],df_dom_nolag_hc['egg_test_dom_time_total'])"
   ]
  },
  {
   "cell_type": "code",
   "execution_count": 72,
   "metadata": {},
   "outputs": [
    {
     "name": "stdout",
     "output_type": "stream",
     "text": [
      "61.67777586206894\n",
      "51.72267123287671\n",
      "45.53733333155205\n",
      "26.534030083007863\n"
     ]
    },
    {
     "data": {
      "text/plain": [
       "MannwhitneyuResult(statistic=1742.0, pvalue=2.8537113432743844e-09)"
      ]
     },
     "execution_count": 72,
     "metadata": {},
     "output_type": "execute_result"
    }
   ],
   "source": [
    "print(df_ndom_nolag_ms[\"egg_test_ndom_time_total\"].mean())\n",
    "print(df_ndom_nolag_hc[\"egg_test_ndom_time_total\"].mean())\n",
    "print(df_ndom_nolag_ms[\"egg_test_ndom_time_total\"].std())\n",
    "print(df_ndom_nolag_hc[\"egg_test_ndom_time_total\"].std())\n",
    "\n",
    "stats.mannwhitneyu(df_ndom_nolag_ms['egg_test_ndom_time_total'],df_ndom_nolag_hc['egg_test_ndom_time_total'])"
   ]
  },
  {
   "cell_type": "markdown",
   "metadata": {},
   "source": [
    "### No outliers"
   ]
  },
  {
   "cell_type": "code",
   "execution_count": 73,
   "metadata": {},
   "outputs": [],
   "source": [
    "# print(df_dom_nooutliers_ms[\"egg_test_dom_time_total\"].mean())\n",
    "# print(df_dom_nooutliers_hc[\"egg_test_dom_time_total\"].mean())\n",
    "# print(df_dom_nooutliers_ms[\"egg_test_dom_time_total\"].std())\n",
    "# print(df_dom_nooutliers_hc[\"egg_test_dom_time_total\"].std())\n",
    "\n",
    "# stats.mannwhitneyu(df_dom_nooutliers_ms['egg_test_dom_time_total'],df_dom_nooutliers_hc['egg_test_dom_time_total'])"
   ]
  },
  {
   "cell_type": "code",
   "execution_count": 74,
   "metadata": {},
   "outputs": [],
   "source": [
    "# print(df_ndom_nooutliers_ms[\"egg_test_ndom_time_total\"].mean())\n",
    "# print(df_ndom_nooutliers_hc[\"egg_test_ndom_time_total\"].mean())\n",
    "# print(df_ndom_nooutliers_ms[\"egg_test_ndom_time_total\"].std())\n",
    "# print(df_ndom_nooutliers_hc[\"egg_test_ndom_time_total\"].std())\n",
    "\n",
    "# stats.mannwhitneyu(df_ndom_nooutliers_ms['egg_test_ndom_time_total'],df_ndom_nooutliers_hc['egg_test_ndom_time_total'])"
   ]
  },
  {
   "cell_type": "markdown",
   "metadata": {},
   "source": [
    "## Effect size"
   ]
  },
  {
   "cell_type": "code",
   "execution_count": 75,
   "metadata": {},
   "outputs": [],
   "source": [
    "# function to calculate Cohen's d for independent samples\n",
    "# Source: https://machinelearningmastery.com/effect-size-measures-in-python/\n",
    "\n",
    "def cohend(d1, d2):\n",
    " # calculate the size of samples\n",
    " n1, n2 = len(d1), len(d2)\n",
    " # calculate the variance of the samples\n",
    " s1, s2 = np.var(d1, ddof=1), np.var(d2, ddof=1)\n",
    " # calculate the pooled standard deviation\n",
    " s = np.sqrt(((n1 - 1) * s1 + (n2 - 1) * s2) / (n1 + n2 - 2))\n",
    " # calculate the means of the samples\n",
    " u1, u2 = np.mean(d1), np.mean(d2)\n",
    " # calculate the effect size\n",
    " return (u1 - u2) / s"
   ]
  },
  {
   "cell_type": "code",
   "execution_count": 76,
   "metadata": {},
   "outputs": [
    {
     "data": {
      "text/plain": [
       "0.23963114521283535"
      ]
     },
     "execution_count": 76,
     "metadata": {},
     "output_type": "execute_result"
    }
   ],
   "source": [
    "cohend(df_dom_nonan_ms[\"egg_test_dom_time_total\"], df_dom_nonan_hc[\"egg_test_dom_time_total\"])"
   ]
  },
  {
   "cell_type": "code",
   "execution_count": 77,
   "metadata": {},
   "outputs": [
    {
     "data": {
      "text/plain": [
       "0.17749030409114852"
      ]
     },
     "execution_count": 77,
     "metadata": {},
     "output_type": "execute_result"
    }
   ],
   "source": [
    "cohend(df_dom_nonan_ms[\"egg_test_ndom_time_total\"], df_dom_nonan_hc[\"egg_test_ndom_time_total\"])"
   ]
  },
  {
   "cell_type": "markdown",
   "metadata": {},
   "source": [
    "### Without lag on FDT"
   ]
  },
  {
   "cell_type": "code",
   "execution_count": 78,
   "metadata": {},
   "outputs": [
    {
     "data": {
      "text/plain": [
       "0.2720132412926664"
      ]
     },
     "execution_count": 78,
     "metadata": {},
     "output_type": "execute_result"
    }
   ],
   "source": [
    "cohend(df_dom_nolag_ms[\"egg_test_dom_time_total\"], df_dom_nolag_hc[\"egg_test_dom_time_total\"])"
   ]
  },
  {
   "cell_type": "code",
   "execution_count": 79,
   "metadata": {},
   "outputs": [
    {
     "data": {
      "text/plain": [
       "0.25828861726946367"
      ]
     },
     "execution_count": 79,
     "metadata": {},
     "output_type": "execute_result"
    }
   ],
   "source": [
    "cohend(df_ndom_nolag_ms[\"egg_test_ndom_time_total\"], df_ndom_nolag_hc[\"egg_test_ndom_time_total\"])"
   ]
  },
  {
   "cell_type": "markdown",
   "metadata": {},
   "source": [
    "### No outliers"
   ]
  },
  {
   "cell_type": "code",
   "execution_count": 80,
   "metadata": {},
   "outputs": [],
   "source": [
    "# cohend(df_dom_nooutliers_ms[\"egg_test_dom_time_total\"], df_dom_nooutliers_hc[\"egg_test_dom_time_total\"])"
   ]
  },
  {
   "cell_type": "code",
   "execution_count": 81,
   "metadata": {},
   "outputs": [],
   "source": [
    "# cohend(df_ndom_nooutliers_ms[\"egg_test_ndom_time_total\"], df_ndom_nooutliers_hc[\"egg_test_ndom_time_total\"])"
   ]
  },
  {
   "cell_type": "markdown",
   "metadata": {},
   "source": [
    "## Point-biserial correlation"
   ]
  },
  {
   "cell_type": "code",
   "execution_count": 82,
   "metadata": {},
   "outputs": [
    {
     "name": "stdout",
     "output_type": "stream",
     "text": [
      "0.09810008187523758 0.1419063998779344\n"
     ]
    }
   ],
   "source": [
    "point_biserial, p_value = stats.pointbiserialr((df_nonan_incl['group'] == 'ms'), df_nonan_incl['egg_test_dom_time_total'])\n",
    "print(p_value, point_biserial)"
   ]
  },
  {
   "cell_type": "code",
   "execution_count": 83,
   "metadata": {},
   "outputs": [
    {
     "name": "stdout",
     "output_type": "stream",
     "text": [
      "0.3017718476364335 0.08886403826356847\n"
     ]
    }
   ],
   "source": [
    "point_biserial, p_value = stats.pointbiserialr((df_nonan_incl['group'] == 'ms'), df_nonan_incl['egg_test_ndom_time_total'])\n",
    "print(p_value, point_biserial)"
   ]
  },
  {
   "cell_type": "markdown",
   "metadata": {},
   "source": [
    "### Plots"
   ]
  },
  {
   "cell_type": "code",
   "execution_count": 84,
   "metadata": {},
   "outputs": [
    {
     "data": {
      "image/png": "[encoded data removed]",
      "text/plain": [
       "<Figure size 864x360 with 1 Axes>"
      ]
     },
     "metadata": {
      "needs_background": "light"
     },
     "output_type": "display_data"
    }
   ],
   "source": [
    "# https://github.com/RainCloudPlots/RainCloudPlots/blob/master/tutorial_python/raincloud_tutorial_python.ipynb\n",
    "dx=\"egg_test_dom_time_total\"; dy=\"group\"; ort=\"h\"; pal = \"Set1\"; sigma = .2\n",
    "f, ax = plt.subplots(figsize=(12, 5))\n",
    "ax=pt.half_violinplot( x = dx, y = dy, data = df_incl, palette = pal, bw = sigma, width = .7, ax = ax, orient = ort)\n",
    "ax=sns.stripplot( x = dx, y = dy, data = df_incl, palette = pal, edgecolor = \"white\",\n",
    "                 size = 3, jitter = 1, zorder = 0, orient = ort)\n",
    "ax=sns.boxplot( x = dx, y = dy, data = df_incl, color = \"black\", width = .15, zorder = 10,\\\n",
    "            showcaps = True, boxprops = {'facecolor':'none', \"zorder\":10},\\\n",
    "            showfliers=False, whiskerprops = {'linewidth':2, \"zorder\":10},\\\n",
    "               saturation = 1, orient = ort)\n",
    "\n",
    "ax.set_xlabel(\"FDT - dominant (seconds)\")\n",
    "\n",
    "plt.savefig('Raincloud discriminant dom with outliers - final.jpg', bbox_inches='tight', dpi = 300)"
   ]
  },
  {
   "cell_type": "code",
   "execution_count": 85,
   "metadata": {},
   "outputs": [
    {
     "data": {
      "image/png": "[encoded data removed]",
      "text/plain": [
       "<Figure size 864x360 with 1 Axes>"
      ]
     },
     "metadata": {
      "needs_background": "light"
     },
     "output_type": "display_data"
    }
   ],
   "source": [
    "dx=\"egg_test_ndom_time_total\"; dy=\"group\"; ort=\"h\"; pal = \"Set1\"; sigma = .2\n",
    "f, ax = plt.subplots(figsize=(12, 5))\n",
    "ax=pt.half_violinplot( x = dx, y = dy, data = df_incl, palette = pal, bw = sigma, width = .7, ax = ax, orient = ort)\n",
    "ax=sns.stripplot( x = dx, y = dy, data = df_incl, palette = pal, edgecolor = \"white\",\n",
    "                 size = 3, jitter = 1, zorder = 0, orient = ort)\n",
    "ax=sns.boxplot( x = dx, y = dy, data = df_incl, color = \"black\", width = .15, zorder = 10,\\\n",
    "            showcaps = True, boxprops = {'facecolor':'none', \"zorder\":10},\\\n",
    "            showfliers=False, whiskerprops = {'linewidth':2, \"zorder\":10},\\\n",
    "               saturation = 1, orient = ort)\n",
    "\n",
    "ax.set_xlabel(\"FDT - non-dominant (seconds)\")\n",
    "\n",
    "plt.savefig('Raincloud discriminant ndom with outliers - final.jpg', bbox_inches='tight', dpi = 300)"
   ]
  },
  {
   "cell_type": "markdown",
   "metadata": {},
   "source": [
    "#### without outliers"
   ]
  },
  {
   "cell_type": "code",
   "execution_count": 86,
   "metadata": {},
   "outputs": [],
   "source": [
    "# dx=\"egg_test_dom_time_total\"; dy=\"group\"; ort=\"h\"; pal = \"Set1\"; sigma = .2\n",
    "# f, ax = plt.subplots(figsize=(12, 5))\n",
    "# ax=pt.half_violinplot( x = dx, y = dy, data = df_dom_nooutliers_incl, palette = pal, bw = sigma, width = .7, ax = ax, orient = ort)\n",
    "# ax=sns.stripplot( x = dx, y = dy, data = df_dom_nooutliers_incl, palette = pal, edgecolor = \"white\",\n",
    "#                  size = 3, jitter = 1, zorder = 0, orient = ort)\n",
    "# ax=sns.boxplot( x = dx, y = dy, data = df_dom_nooutliers_incl, color = \"black\", width = .15, zorder = 10,\\\n",
    "#             showcaps = True, boxprops = {'facecolor':'none', \"zorder\":10},\\\n",
    "#             showfliers=False, whiskerprops = {'linewidth':2, \"zorder\":10},\\\n",
    "#                saturation = 1, orient = ort)\n",
    "\n",
    "# ax.set_xlabel(\"FDT - dominant (seconds)\")\n",
    "\n",
    "# plt.savefig('Raincloud discriminant dom without outliers - final', bbox_inches='tight', dpi = 300)"
   ]
  },
  {
   "cell_type": "code",
   "execution_count": 87,
   "metadata": {},
   "outputs": [],
   "source": [
    "# dx=\"egg_test_ndom_time_total\"; dy=\"group\"; ort=\"h\"; pal = \"Set1\"; sigma = .2\n",
    "# f, ax = plt.subplots(figsize=(12, 5))\n",
    "# ax=pt.half_violinplot( x = dx, y = dy, data = df_ndom_nooutliers_incl, palette = pal, bw = sigma, width = .7, ax = ax, orient = ort)\n",
    "# ax=sns.stripplot( x = dx, y = dy, data = df_ndom_nooutliers_incl, palette = pal, edgecolor = \"white\",\n",
    "#                  size = 3, jitter = 1, zorder = 0, orient = ort)\n",
    "# ax=sns.boxplot( x = dx, y = dy, data = df_ndom_nooutliers_incl, color = \"black\", width = .15, zorder = 10,\\\n",
    "#             showcaps = True, boxprops = {'facecolor':'none', \"zorder\":10},\\\n",
    "#             showfliers=False, whiskerprops = {'linewidth':2, \"zorder\":10},\\\n",
    "#                saturation = 1, orient = ort)\n",
    "\n",
    "# ax.set_xlabel(\"FDT - non-dominant (seconds)\")\n",
    "\n",
    "# plt.savefig('Raincloud discriminant ndom without outliers - final', bbox_inches='tight', dpi = 300)"
   ]
  },
  {
   "cell_type": "markdown",
   "metadata": {},
   "source": [
    "# 3. Correlation with clinical parameters"
   ]
  },
  {
   "cell_type": "markdown",
   "metadata": {},
   "source": [
    "## Age"
   ]
  },
  {
   "cell_type": "code",
   "execution_count": 88,
   "metadata": {},
   "outputs": [
    {
     "name": "stdout",
     "output_type": "stream",
     "text": [
      "Spearman correlation between egg_test_dom_time_total and age: r = 0.4582604895104895, p = 0.00012368582227687618\n",
      "Spearman correlation between egg_test_ndom_time_total and age: r = 0.39524439386016186, p = 0.0021359419399834176\n",
      "Spearman correlation between egg_test_dom_time_total and age: r = 0.4230352303523035, p = 8.335112612488667e-05\n",
      "Spearman correlation between egg_test_ndom_time_total and age: r = 0.40552580331061344, p = 0.00020925205538636332\n"
     ]
    }
   ],
   "source": [
    "calculate_correlation(df_dom_nonan_ms, 'egg_test_dom_time_total', 'age', 'Spearman')\n",
    "calculate_correlation(df_dom_nonan_ms, 'egg_test_ndom_time_total', 'age', 'Spearman')\n",
    "calculate_correlation(df_dom_nonan_hc, 'egg_test_dom_time_total', 'age', 'Spearman')\n",
    "calculate_correlation(df_dom_nonan_hc, 'egg_test_ndom_time_total', 'age', 'Spearman')"
   ]
  },
  {
   "cell_type": "code",
   "execution_count": 89,
   "metadata": {},
   "outputs": [
    {
     "name": "stdout",
     "output_type": "stream",
     "text": [
      "Spearman correlation between nhpt_avg_dom and age: r = 0.3589894884923755, p = 0.0033174973972655715\n",
      "Spearman correlation between nhpt_avg_ndom and age: r = 0.3955724557862354, p = 0.0011084163707873352\n",
      "Spearman correlation between nhpt_avg_dom and age: r = 0.2466477340132695, p = 0.026436288861384626\n",
      "Spearman correlation between nhpt_avg_ndom and age: r = 0.27967795482761826, p = 0.011449974430425428\n"
     ]
    }
   ],
   "source": [
    "calculate_correlation(df_dom_nonan_ms, 'nhpt_avg_dom', 'age', 'Spearman')\n",
    "calculate_correlation(df_dom_nonan_ms, 'nhpt_avg_ndom', 'age', 'Spearman')\n",
    "calculate_correlation(df_dom_nonan_hc, 'nhpt_avg_dom', 'age', 'Spearman')\n",
    "calculate_correlation(df_dom_nonan_hc, 'nhpt_avg_ndom', 'age', 'Spearman')"
   ]
  },
  {
   "cell_type": "markdown",
   "metadata": {},
   "source": [
    "### Without lag on FDT"
   ]
  },
  {
   "cell_type": "code",
   "execution_count": 90,
   "metadata": {},
   "outputs": [
    {
     "name": "stdout",
     "output_type": "stream",
     "text": [
      "Spearman correlation between egg_test_dom_time_total and age: r = 0.4744623655913978, p = 8.547529867134854e-05\n",
      "Spearman correlation between egg_test_ndom_time_total and age: r = 0.44926020486634477, p = 0.00040380121908749025\n",
      "Spearman correlation between egg_test_dom_time_total and age: r = 0.45871977240398293, p = 3.4878884434282735e-05\n",
      "Spearman correlation between egg_test_ndom_time_total and age: r = 0.4532580525731212, p = 5.652905392899388e-05\n"
     ]
    }
   ],
   "source": [
    "calculate_correlation(df_dom_nolag_ms, 'egg_test_dom_time_total', 'age', 'Spearman')\n",
    "calculate_correlation(df_ndom_nolag_ms, 'egg_test_ndom_time_total', 'age', 'Spearman')\n",
    "calculate_correlation(df_dom_nolag_hc, 'egg_test_dom_time_total', 'age', 'Spearman')\n",
    "calculate_correlation(df_ndom_nolag_hc, 'egg_test_ndom_time_total', 'age', 'Spearman')"
   ]
  },
  {
   "cell_type": "markdown",
   "metadata": {},
   "source": [
    "### No outliers"
   ]
  },
  {
   "cell_type": "code",
   "execution_count": 91,
   "metadata": {},
   "outputs": [],
   "source": [
    "# calculate_correlation(df_dom_nooutliers_ms, 'egg_test_dom_time_total', 'age', 'Spearman')\n",
    "# calculate_correlation(df_ndom_nooutliers_ms, 'egg_test_ndom_time_total', 'age', 'Spearman')\n",
    "# calculate_correlation(df_dom_nooutliers_hc, 'egg_test_dom_time_total', 'age', 'Spearman')\n",
    "# calculate_correlation(df_ndom_nooutliers_hc, 'egg_test_ndom_time_total', 'age', 'Spearman')"
   ]
  },
  {
   "cell_type": "markdown",
   "metadata": {},
   "source": [
    "### Plots"
   ]
  },
  {
   "cell_type": "code",
   "execution_count": 92,
   "metadata": {},
   "outputs": [
    {
     "data": {
      "image/png": "[encoded data removed]",
      "text/plain": [
       "<Figure size 432x288 with 1 Axes>"
      ]
     },
     "metadata": {
      "needs_background": "light"
     },
     "output_type": "display_data"
    }
   ],
   "source": [
    "fig, ax = plt.subplots()\n",
    "sns.scatterplot(x = 'age', y = 'egg_test_dom_time_total', data = df_dom_nonan_ms, ci = False, label = 'Dominant')\n",
    "sns.scatterplot(x = 'age', y = 'egg_test_ndom_time_total', data = df_dom_nonan_ms, ci = False, label = 'Non-dominant')\n",
    "\n",
    "ax.set_xlabel(\"Age (years)\")\n",
    "ax.set_ylabel(\"FDT (seconds)\")\n",
    "ax.get_legend().remove()\n",
    "\n",
    "plt.xlim(0, None)\n",
    "plt.ylim(0, None)\n",
    "\n",
    "plt.savefig(\"Age - final.jpg\", dpi = 300, bbox_inches = \"tight\")"
   ]
  },
  {
   "cell_type": "markdown",
   "metadata": {},
   "source": [
    "## Education"
   ]
  },
  {
   "cell_type": "code",
   "execution_count": 93,
   "metadata": {},
   "outputs": [
    {
     "name": "stdout",
     "output_type": "stream",
     "text": [
      "Spearman correlation between egg_test_dom_time_total and education_n_years: r = -0.01595528724500468, p = 0.8996150268025707\n",
      "Spearman correlation between egg_test_ndom_time_total and education_n_years: r = -0.030369020997953185, p = 0.8209673431517162\n",
      "Spearman correlation between egg_test_dom_time_total and education_n_years: r = -0.23027864060250358, p = 0.038623225871654746\n",
      "Spearman correlation between egg_test_ndom_time_total and education_n_years: r = -0.1856794776646175, p = 0.10135270139666694\n"
     ]
    }
   ],
   "source": [
    "calculate_correlation(df_dom_nonan_ms, 'egg_test_dom_time_total', 'education_n_years', 'Spearman')\n",
    "calculate_correlation(df_dom_nonan_ms, 'egg_test_ndom_time_total', 'education_n_years', 'Spearman')\n",
    "calculate_correlation(df_dom_nonan_hc, 'egg_test_dom_time_total', 'education_n_years', 'Spearman')\n",
    "calculate_correlation(df_dom_nonan_hc, 'egg_test_ndom_time_total', 'education_n_years', 'Spearman')"
   ]
  },
  {
   "cell_type": "markdown",
   "metadata": {},
   "source": [
    "### Without lag on FDT"
   ]
  },
  {
   "cell_type": "code",
   "execution_count": 94,
   "metadata": {},
   "outputs": [
    {
     "name": "stdout",
     "output_type": "stream",
     "text": [
      "Spearman correlation between egg_test_dom_time_total and education_n_years: r = -0.03320178183880773, p = 0.796156110972362\n",
      "Spearman correlation between egg_test_ndom_time_total and education_n_years: r = -0.00800905290042899, p = 0.9524198443377035\n",
      "Spearman correlation between egg_test_dom_time_total and education_n_years: r = -0.2372545216261809, p = 0.04040959272245563\n",
      "Spearman correlation between egg_test_ndom_time_total and education_n_years: r = -0.18865949965067358, p = 0.10993692795553722\n"
     ]
    }
   ],
   "source": [
    "calculate_correlation(df_dom_nolag_ms, 'egg_test_dom_time_total', 'education_n_years', 'Spearman')\n",
    "calculate_correlation(df_ndom_nolag_ms, 'egg_test_ndom_time_total', 'education_n_years', 'Spearman')\n",
    "calculate_correlation(df_dom_nolag_hc, 'egg_test_dom_time_total', 'education_n_years', 'Spearman')\n",
    "calculate_correlation(df_ndom_nolag_hc, 'egg_test_ndom_time_total', 'education_n_years', 'Spearman')"
   ]
  },
  {
   "cell_type": "markdown",
   "metadata": {},
   "source": [
    "### No outliers"
   ]
  },
  {
   "cell_type": "code",
   "execution_count": 95,
   "metadata": {},
   "outputs": [],
   "source": [
    "# calculate_correlation(df_dom_nooutliers_ms, 'egg_test_dom_time_total', 'education_n_years', 'Spearman')\n",
    "# calculate_correlation(df_ndom_nooutliers_ms, 'egg_test_ndom_time_total', 'education_n_years', 'Spearman')\n",
    "# calculate_correlation(df_dom_nooutliers_hc, 'egg_test_dom_time_total', 'education_n_years', 'Spearman')\n",
    "# calculate_correlation(df_ndom_nooutliers_hc, 'egg_test_ndom_time_total', 'education_n_years', 'Spearman')"
   ]
  },
  {
   "cell_type": "markdown",
   "metadata": {},
   "source": [
    "## Disease duration"
   ]
  },
  {
   "cell_type": "code",
   "execution_count": 96,
   "metadata": {},
   "outputs": [
    {
     "name": "stdout",
     "output_type": "stream",
     "text": [
      "Spearman correlation between egg_test_dom_time_total and disease_duration: r = 0.17237471794170786, p = 0.16973163597970647\n",
      "Spearman correlation between egg_test_ndom_time_total and disease_duration: r = 0.31470993309357054, p = 0.01612517880502774\n"
     ]
    }
   ],
   "source": [
    "calculate_correlation(df_dom_nonan_ms, 'egg_test_dom_time_total', 'disease_duration', 'Spearman')\n",
    "calculate_correlation(df_dom_nonan_ms, 'egg_test_ndom_time_total', 'disease_duration', 'Spearman')"
   ]
  },
  {
   "cell_type": "markdown",
   "metadata": {},
   "source": [
    "### Without lag on FDT"
   ]
  },
  {
   "cell_type": "code",
   "execution_count": 97,
   "metadata": {},
   "outputs": [
    {
     "name": "stdout",
     "output_type": "stream",
     "text": [
      "Spearman correlation between egg_test_dom_time_total and disease_duration: r = 0.21355023318517996, p = 0.09285878391344472\n",
      "Spearman correlation between egg_test_ndom_time_total and disease_duration: r = 0.30460940923170265, p = 0.02007814131183839\n"
     ]
    }
   ],
   "source": [
    "calculate_correlation(df_dom_nolag_ms, 'egg_test_dom_time_total', 'disease_duration', 'Spearman')\n",
    "calculate_correlation(df_ndom_nolag_ms, 'egg_test_ndom_time_total', 'disease_duration', 'Spearman')"
   ]
  },
  {
   "cell_type": "markdown",
   "metadata": {},
   "source": [
    "### No outliers"
   ]
  },
  {
   "cell_type": "code",
   "execution_count": 98,
   "metadata": {},
   "outputs": [],
   "source": [
    "# calculate_correlation(df_dom_nooutliers_ms, 'egg_test_dom_time_total', 'disease_duration', 'Spearman')\n",
    "# calculate_correlation(df_ndom_nooutliers_ms, 'egg_test_ndom_time_total', 'disease_duration', 'Spearman')"
   ]
  },
  {
   "cell_type": "markdown",
   "metadata": {},
   "source": [
    "### Plots"
   ]
  },
  {
   "cell_type": "code",
   "execution_count": 99,
   "metadata": {},
   "outputs": [
    {
     "data": {
      "image/png": "[encoded data removed]",
      "text/plain": [
       "<Figure size 432x288 with 1 Axes>"
      ]
     },
     "metadata": {
      "needs_background": "light"
     },
     "output_type": "display_data"
    }
   ],
   "source": [
    "fig, ax = plt.subplots()\n",
    "sns.scatterplot(x = 'disease_duration', y = 'egg_test_dom_time_total', data = df_dom_nonan_ms, ci = False, label = 'Dominant')\n",
    "sns.scatterplot(x = 'disease_duration', y = 'egg_test_ndom_time_total', data = df_dom_nonan_ms, ci = False, label = 'Non-dominant')\n",
    "ax.legend(bbox_to_anchor=(1.04, 0.5), loc=\"center left\")\n",
    "\n",
    "ax.set_xlabel(\"Disease duration (years)\")\n",
    "ax.set_ylabel(\"FDT (seconds)\")\n",
    "\n",
    "plt.xlim(0, None)\n",
    "plt.ylim(0, None)\n",
    "\n",
    "plt.savefig(\"Disease duration - final.jpg\", dpi = 300, bbox_inches = \"tight\")"
   ]
  },
  {
   "cell_type": "markdown",
   "metadata": {},
   "source": [
    "## EDSS"
   ]
  },
  {
   "cell_type": "code",
   "execution_count": 100,
   "metadata": {},
   "outputs": [
    {
     "name": "stdout",
     "output_type": "stream",
     "text": [
      "Spearman correlation between egg_test_dom_time_total and edss: r = 0.35686850495137834, p = 0.00512697193044076\n",
      "Spearman correlation between egg_test_ndom_time_total and edss: r = 0.30937321889665803, p = 0.024184787414883304\n"
     ]
    }
   ],
   "source": [
    "calculate_correlation(df_dom_nonan_ms, 'egg_test_dom_time_total', 'edss', 'Spearman')\n",
    "calculate_correlation(df_dom_nonan_ms, 'egg_test_ndom_time_total', 'edss', 'Spearman')"
   ]
  },
  {
   "cell_type": "markdown",
   "metadata": {},
   "source": [
    "### Without lag on FDT"
   ]
  },
  {
   "cell_type": "code",
   "execution_count": 101,
   "metadata": {},
   "outputs": [
    {
     "name": "stdout",
     "output_type": "stream",
     "text": [
      "Spearman correlation between egg_test_dom_time_total and edss: r = 0.3484685616222054, p = 0.006836318109616242\n",
      "Spearman correlation between egg_test_ndom_time_total and edss: r = 0.3584153700401012, p = 0.007785639654040054\n"
     ]
    }
   ],
   "source": [
    "calculate_correlation(df_dom_nolag_ms, 'egg_test_dom_time_total', 'edss', 'Spearman')\n",
    "calculate_correlation(df_ndom_nolag_ms, 'egg_test_ndom_time_total', 'edss', 'Spearman')"
   ]
  },
  {
   "cell_type": "markdown",
   "metadata": {},
   "source": [
    "### No outliers"
   ]
  },
  {
   "cell_type": "code",
   "execution_count": 102,
   "metadata": {},
   "outputs": [],
   "source": [
    "# calculate_correlation(df_dom_nooutliers_ms, 'egg_test_dom_time_total', 'edss', 'Spearman')\n",
    "# calculate_correlation(df_ndom_nooutliers_ms, 'egg_test_ndom_time_total', 'edss', 'Spearman')"
   ]
  },
  {
   "cell_type": "markdown",
   "metadata": {},
   "source": [
    "### Plots"
   ]
  },
  {
   "cell_type": "code",
   "execution_count": 103,
   "metadata": {},
   "outputs": [
    {
     "data": {
      "image/png": "[encoded data removed]",
      "text/plain": [
       "<Figure size 432x288 with 1 Axes>"
      ]
     },
     "metadata": {
      "needs_background": "light"
     },
     "output_type": "display_data"
    }
   ],
   "source": [
    "fig, ax = plt.subplots()\n",
    "sns.scatterplot(x = 'edss', y = 'egg_test_dom_time_total', data = df_dom_nonan_ms, ci = False, label = 'Dominant')\n",
    "sns.scatterplot(x = 'edss', y = 'egg_test_ndom_time_total', data = df_dom_nonan_ms, ci = False, label = 'Non-dominant')\n",
    "ax.get_legend().remove()\n",
    "\n",
    "ax.set_xlabel(\"Expanded Disability Status Scale (EDSS)\")\n",
    "ax.set_ylabel(\"FDT (seconds)\")\n",
    "\n",
    "plt.xlim(0, None)\n",
    "plt.ylim(0, None)\n",
    "\n",
    "plt.savefig(\"EDSS - final.jpg\", dpi = 300, bbox_inches = \"tight\")"
   ]
  },
  {
   "cell_type": "markdown",
   "metadata": {},
   "source": [
    "## BDI"
   ]
  },
  {
   "cell_type": "code",
   "execution_count": 104,
   "metadata": {},
   "outputs": [
    {
     "name": "stdout",
     "output_type": "stream",
     "text": [
      "Spearman correlation between egg_test_dom_time_total and bdi_total: r = 0.06270366439523226, p = 0.6254014786933189\n",
      "Spearman correlation between egg_test_ndom_time_total and bdi_total: r = 0.08571041604020706, p = 0.529945545256658\n",
      "Spearman correlation between egg_test_dom_time_total and bdi_total: r = -0.04577949287179347, p = 0.686778007609486\n",
      "Spearman correlation between egg_test_ndom_time_total and bdi_total: r = -0.09357895306377391, p = 0.4120492672034183\n"
     ]
    }
   ],
   "source": [
    "calculate_correlation(df_dom_nonan_ms, 'egg_test_dom_time_total', 'bdi_total', 'Spearman')\n",
    "calculate_correlation(df_dom_nonan_ms, 'egg_test_ndom_time_total', 'bdi_total', 'Spearman')\n",
    "calculate_correlation(df_dom_nonan_hc, 'egg_test_dom_time_total', 'bdi_total', 'Spearman')\n",
    "calculate_correlation(df_dom_nonan_hc, 'egg_test_ndom_time_total', 'bdi_total', 'Spearman')"
   ]
  },
  {
   "cell_type": "markdown",
   "metadata": {},
   "source": [
    "### Without lag on FDT"
   ]
  },
  {
   "cell_type": "code",
   "execution_count": 105,
   "metadata": {},
   "outputs": [
    {
     "name": "stdout",
     "output_type": "stream",
     "text": [
      "Spearman correlation between egg_test_dom_time_total and bdi_total: r = 0.09270788883072541, p = 0.477316718155149\n",
      "Spearman correlation between egg_test_ndom_time_total and bdi_total: r = 0.1385810618057158, p = 0.308401962195543\n",
      "Spearman correlation between egg_test_dom_time_total and bdi_total: r = -0.0390906524344162, p = 0.7408922342660209\n",
      "Spearman correlation between egg_test_ndom_time_total and bdi_total: r = -0.07548292689224033, p = 0.5256230675960676\n"
     ]
    }
   ],
   "source": [
    "calculate_correlation(df_dom_nolag_ms, 'egg_test_dom_time_total', 'bdi_total', 'Spearman')\n",
    "calculate_correlation(df_ndom_nolag_ms, 'egg_test_ndom_time_total', 'bdi_total', 'Spearman')\n",
    "calculate_correlation(df_dom_nolag_hc, 'egg_test_dom_time_total', 'bdi_total', 'Spearman')\n",
    "calculate_correlation(df_ndom_nolag_hc, 'egg_test_ndom_time_total', 'bdi_total', 'Spearman')"
   ]
  },
  {
   "cell_type": "markdown",
   "metadata": {},
   "source": [
    "### No outliers"
   ]
  },
  {
   "cell_type": "code",
   "execution_count": 106,
   "metadata": {},
   "outputs": [],
   "source": [
    "# calculate_correlation(df_dom_nooutliers_ms, 'egg_test_dom_time_total', 'bdi_total', 'Spearman')\n",
    "# calculate_correlation(df_ndom_nooutliers_ms, 'egg_test_ndom_time_total', 'bdi_total', 'Spearman')\n",
    "# calculate_correlation(df_dom_nooutliers_hc, 'egg_test_dom_time_total', 'bdi_total', 'Spearman')\n",
    "# calculate_correlation(df_ndom_nooutliers_hc, 'egg_test_ndom_time_total', 'bdi_total', 'Spearman')"
   ]
  },
  {
   "cell_type": "markdown",
   "metadata": {},
   "source": [
    "### Plots"
   ]
  },
  {
   "cell_type": "code",
   "execution_count": 107,
   "metadata": {},
   "outputs": [
    {
     "data": {
      "image/png": "[encoded data removed]",
      "text/plain": [
       "<Figure size 432x288 with 1 Axes>"
      ]
     },
     "metadata": {
      "needs_background": "light"
     },
     "output_type": "display_data"
    }
   ],
   "source": [
    "fig, ax = plt.subplots()\n",
    "ax.scatter(df_dom_nonan_ms['bdi_total'], df_dom_nonan_ms['egg_test_dom_time_total'], marker = '+')\n",
    "ax.scatter(df_dom_nonan_ms['bdi_total'], df_dom_nonan_ms['egg_test_ndom_time_total'], marker = 'o')\n",
    "ax.set_xlabel(\"Beck Depression Inventory (BDI-II)\")\n",
    "ax.set_ylabel(\"FDT (seconds)\")\n",
    "ax.set_title(\"Association between Beck Depression Inventory (BDI-II) and Finger Dexterity test in MS subjects\")\n",
    "plt.show()"
   ]
  },
  {
   "cell_type": "markdown",
   "metadata": {},
   "source": [
    "## FSMC"
   ]
  },
  {
   "cell_type": "code",
   "execution_count": 108,
   "metadata": {
    "scrolled": true
   },
   "outputs": [
    {
     "name": "stdout",
     "output_type": "stream",
     "text": [
      "Spearman correlation between egg_test_dom_time_total and fsmc_total: r = 0.09089054615044467, p = 0.4786700139899429\n",
      "Spearman correlation between egg_test_ndom_time_total and fsmc_total: r = 0.15972236338720852, p = 0.2396501752530134\n",
      "Spearman correlation between egg_test_dom_time_total and fsmc_total: r = -0.1622427855409099, p = 0.167256255313442\n",
      "Spearman correlation between egg_test_ndom_time_total and fsmc_total: r = -0.28620193646720765, p = 0.01480072469351026\n"
     ]
    }
   ],
   "source": [
    "calculate_correlation(df_dom_nonan_ms, 'egg_test_dom_time_total', 'fsmc_total', 'Spearman')\n",
    "calculate_correlation(df_dom_nonan_ms, 'egg_test_ndom_time_total', 'fsmc_total', 'Spearman')\n",
    "calculate_correlation(df_dom_nonan_hc, 'egg_test_dom_time_total', 'fsmc_total', 'Spearman')\n",
    "calculate_correlation(df_dom_nonan_hc, 'egg_test_ndom_time_total', 'fsmc_total', 'Spearman')"
   ]
  },
  {
   "cell_type": "markdown",
   "metadata": {},
   "source": [
    "### Without lag on FDT"
   ]
  },
  {
   "cell_type": "code",
   "execution_count": 109,
   "metadata": {},
   "outputs": [
    {
     "name": "stdout",
     "output_type": "stream",
     "text": [
      "Spearman correlation between egg_test_dom_time_total and fsmc_total: r = 0.08899589927704178, p = 0.49520370166007777\n",
      "Spearman correlation between egg_test_ndom_time_total and fsmc_total: r = 0.19045341715747957, p = 0.15972878310371127\n",
      "Spearman correlation between egg_test_dom_time_total and fsmc_total: r = -0.17731082698657943, p = 0.14803025094780942\n",
      "Spearman correlation between egg_test_ndom_time_total and fsmc_total: r = -0.2930833076919899, p = 0.016929829764801282\n"
     ]
    }
   ],
   "source": [
    "calculate_correlation(df_dom_nolag_ms, 'egg_test_dom_time_total', 'fsmc_total', 'Spearman')\n",
    "calculate_correlation(df_ndom_nolag_ms, 'egg_test_ndom_time_total', 'fsmc_total', 'Spearman')\n",
    "calculate_correlation(df_dom_nolag_hc, 'egg_test_dom_time_total', 'fsmc_total', 'Spearman')\n",
    "calculate_correlation(df_ndom_nolag_hc, 'egg_test_ndom_time_total', 'fsmc_total', 'Spearman')"
   ]
  },
  {
   "cell_type": "markdown",
   "metadata": {},
   "source": [
    "### No outliers"
   ]
  },
  {
   "cell_type": "code",
   "execution_count": 110,
   "metadata": {},
   "outputs": [],
   "source": [
    "# calculate_correlation(df_dom_nooutliers_ms, 'egg_test_dom_time_total', 'fsmc_total', 'Spearman')\n",
    "# calculate_correlation(df_ndom_nooutliers_ms, 'egg_test_ndom_time_total', 'fsmc_total', 'Spearman')\n",
    "# calculate_correlation(df_dom_nooutliers_hc, 'egg_test_dom_time_total', 'fsmc_total', 'Spearman')\n",
    "# calculate_correlation(df_ndom_nooutliers_hc, 'egg_test_ndom_time_total', 'fsmc_total', 'Spearman')"
   ]
  },
  {
   "cell_type": "markdown",
   "metadata": {},
   "source": [
    "### Plots"
   ]
  },
  {
   "cell_type": "code",
   "execution_count": 111,
   "metadata": {},
   "outputs": [
    {
     "data": {
      "image/png": "[encoded data removed]",
      "text/plain": [
       "<Figure size 432x288 with 1 Axes>"
      ]
     },
     "metadata": {
      "needs_background": "light"
     },
     "output_type": "display_data"
    }
   ],
   "source": [
    "fig, ax = plt.subplots()\n",
    "ax.scatter(df_dom_nonan_ms['fsmc_total'], df_dom_nonan_ms['egg_test_dom_time_total'], marker = '+')\n",
    "ax.scatter(df_dom_nonan_ms['fsmc_total'], df_dom_nonan_ms['egg_test_ndom_time_total'], marker = 'o')\n",
    "ax.set_xlabel(\"Fatigue Scale for Motor and Cognitive functions (FSMC)\")\n",
    "ax.set_ylabel(\"FDT (sec)\")\n",
    "ax.set_title(\"Association between Fatigue Scale for Motor and Cognitive functions (FSMC) and Finger Dexterity test in MS subjects\")\n",
    "plt.show()"
   ]
  },
  {
   "cell_type": "markdown",
   "metadata": {},
   "source": [
    "# 4. Test-retest reliability"
   ]
  },
  {
   "cell_type": "markdown",
   "metadata": {},
   "source": [
    "## Spearman & Pearson correlation"
   ]
  },
  {
   "cell_type": "code",
   "execution_count": 112,
   "metadata": {
    "scrolled": true
   },
   "outputs": [
    {
     "name": "stdout",
     "output_type": "stream",
     "text": [
      "Spearman correlation between egg_test_dom_time_total and egg_test_dom_time_total_retest: r = 0.7082706766917292, p = 0.0004746151082516953\n",
      "Spearman correlation between egg_test_ndom_time_total and egg_test_ndom_time_total_retest: r = 0.8165413533834586, p = 1.1247209263971732e-05\n"
     ]
    }
   ],
   "source": [
    "calculate_correlation(df_incl, 'egg_test_dom_time_total', 'egg_test_dom_time_total_retest', 'Spearman')\n",
    "calculate_correlation(df_incl, 'egg_test_ndom_time_total', 'egg_test_ndom_time_total_retest', 'Spearman')"
   ]
  },
  {
   "cell_type": "code",
   "execution_count": 113,
   "metadata": {},
   "outputs": [
    {
     "name": "stdout",
     "output_type": "stream",
     "text": [
      "Pearson correlation between egg_test_dom_time_total and egg_test_dom_time_total_retest: r = 0.6933317842939232, p = 0.00069970657872126\n",
      "Pearson correlation between egg_test_ndom_time_total and egg_test_ndom_time_total_retest: r = 0.8659012828966869, p = 8.102748762984716e-07\n"
     ]
    }
   ],
   "source": [
    "calculate_correlation(df_incl, 'egg_test_dom_time_total', 'egg_test_dom_time_total_retest', 'Pearson')\n",
    "calculate_correlation(df_incl, 'egg_test_ndom_time_total', 'egg_test_ndom_time_total_retest', 'Pearson')"
   ]
  },
  {
   "cell_type": "markdown",
   "metadata": {},
   "source": [
    "### no outliers"
   ]
  },
  {
   "cell_type": "code",
   "execution_count": 114,
   "metadata": {
    "scrolled": true
   },
   "outputs": [],
   "source": [
    "# calculate_correlation(df_dom_nooutliers_retest, 'egg_test_dom_time_total', 'egg_test_dom_time_total_retest', 'Spearman')\n",
    "# calculate_correlation(df_ndom_nooutliers_retest, 'egg_test_ndom_time_total', 'egg_test_ndom_time_total_retest', 'Spearman')"
   ]
  },
  {
   "cell_type": "code",
   "execution_count": 115,
   "metadata": {},
   "outputs": [],
   "source": [
    "# calculate_correlation(df_dom_nooutliers_retest, 'egg_test_dom_time_total', 'egg_test_dom_time_total_retest', 'Pearson')\n",
    "# calculate_correlation(df_ndom_nooutliers_retest, 'egg_test_ndom_time_total', 'egg_test_ndom_time_total_retest', 'Pearson')"
   ]
  },
  {
   "cell_type": "markdown",
   "metadata": {},
   "source": [
    "## ICC"
   ]
  },
  {
   "cell_type": "code",
   "execution_count": 116,
   "metadata": {},
   "outputs": [],
   "source": [
    "def calculate_icc(df, test_column, retest_column):   \n",
    "    # source: https://www.statology.org/intraclass-correlation-coefficient-python/#:~:text=An%20intraclass%20correlation%20coefficient%20(ICC,and%201%20indicating%20perfect%20reliability.&text=where%3A,The%20name%20of%20the%20dataframe\n",
    "    # Create empty dataframe\n",
    "    icc_df = pd.DataFrame()\n",
    "    \n",
    "    # Fill dataframe\n",
    "    exam = 0\n",
    "    for i, row in df.iterrows():\n",
    "        test_value = row[test_column]\n",
    "        retest_value = row[retest_column]\n",
    "        if not np.isnan(test_value) and not np.isnan(retest_value):\n",
    "            icc_df = pd.concat([icc_df, pd.DataFrame({'exam': [exam], 'judge': ['baseline'], 'rating': [test_value]})])\n",
    "            icc_df = pd.concat([icc_df, pd.DataFrame({'exam': [exam], 'judge': ['retest'], 'rating': [retest_value]})])\n",
    "            exam += 1\n",
    "    \n",
    "    # Calculate ICC\n",
    "    icc = pg.intraclass_corr(data=icc_df, targets='exam', raters='judge', ratings='rating')\n",
    "    print('Number of subjects: ', icc_df.shape[0]/2)\n",
    "    print(icc.set_index('Type'))\n",
    "    print(icc_df)\n",
    "    #return icc_df, icc"
   ]
  },
  {
   "cell_type": "code",
   "execution_count": 117,
   "metadata": {},
   "outputs": [
    {
     "name": "stdout",
     "output_type": "stream",
     "text": [
      "Number of subjects:  20.0\n",
      "                   Description       ICC         F  df1  df2      pval  \\\n",
      "Type                                                                     \n",
      "ICC1    Single raters absolute  0.279231  1.774813   19   20  0.105884   \n",
      "ICC2      Single random raters  0.316778  2.094153   19   19  0.057910   \n",
      "ICC3       Single fixed raters  0.353620  2.094153   19   19  0.057910   \n",
      "ICC1k  Average raters absolute  0.436560  1.774813   19   20  0.105884   \n",
      "ICC2k    Average random raters  0.481141  2.094153   19   19  0.057910   \n",
      "ICC3k     Average fixed raters  0.522480  2.094153   19   19  0.057910   \n",
      "\n",
      "               CI95%  \n",
      "Type                  \n",
      "ICC1   [-0.17, 0.63]  \n",
      "ICC2   [-0.08, 0.65]  \n",
      "ICC3   [-0.09, 0.68]  \n",
      "ICC1k   [-0.4, 0.78]  \n",
      "ICC2k  [-0.17, 0.78]  \n",
      "ICC3k  [-0.21, 0.81]  \n",
      "   exam     judge   rating\n",
      "0     0  baseline   27.234\n",
      "0     0    retest   29.077\n",
      "0     1  baseline  135.895\n",
      "0     1    retest   49.746\n",
      "0     2  baseline   46.469\n",
      "0     2    retest   30.214\n",
      "0     3  baseline   38.660\n",
      "0     3    retest   38.757\n",
      "0     4  baseline   61.449\n",
      "0     4    retest   62.418\n",
      "0     5  baseline   89.710\n",
      "0     5    retest   36.109\n",
      "0     6  baseline   32.302\n",
      "0     6    retest   37.158\n",
      "0     7  baseline   52.311\n",
      "0     7    retest   68.951\n",
      "0     8  baseline   30.734\n",
      "0     8    retest   23.633\n",
      "0     9  baseline   76.520\n",
      "0     9    retest   41.155\n",
      "0    10  baseline   30.701\n",
      "0    10    retest   27.908\n",
      "0    11  baseline  264.567\n",
      "0    11    retest   79.365\n",
      "0    12  baseline   44.846\n",
      "0    12    retest   43.906\n",
      "0    13  baseline   48.553\n",
      "0    13    retest   29.585\n",
      "0    14  baseline   47.505\n",
      "0    14    retest   32.387\n",
      "0    15  baseline   40.160\n",
      "0    15    retest   37.183\n",
      "0    16  baseline   57.947\n",
      "0    16    retest   51.225\n",
      "0    17  baseline   33.416\n",
      "0    17    retest   30.250\n",
      "0    18  baseline   66.966\n",
      "0    18    retest   50.857\n",
      "0    19  baseline   39.130\n",
      "0    19    retest   35.388\n"
     ]
    }
   ],
   "source": [
    "calculate_icc(df_incl, 'egg_test_dom_time_total', 'egg_test_dom_time_total_retest')"
   ]
  },
  {
   "cell_type": "code",
   "execution_count": 118,
   "metadata": {},
   "outputs": [
    {
     "name": "stdout",
     "output_type": "stream",
     "text": [
      "Number of subjects:  20.0\n",
      "                   Description       ICC         F  df1  df2      pval  \\\n",
      "Type                                                                     \n",
      "ICC1    Single raters absolute  0.479351  2.841358   19   20  0.012521   \n",
      "ICC2      Single random raters  0.518838  4.149438   19   19  0.001609   \n",
      "ICC3       Single fixed raters  0.611608  4.149438   19   19  0.001609   \n",
      "ICC1k  Average raters absolute  0.648056  2.841358   19   20  0.012521   \n",
      "ICC2k    Average random raters  0.683204  4.149438   19   19  0.001609   \n",
      "ICC3k     Average fixed raters  0.759003  4.149438   19   19  0.001609   \n",
      "\n",
      "              CI95%  \n",
      "Type                 \n",
      "ICC1   [0.07, 0.75]  \n",
      "ICC2   [0.07, 0.78]  \n",
      "ICC3   [0.24, 0.83]  \n",
      "ICC1k  [0.13, 0.86]  \n",
      "ICC2k  [0.13, 0.88]  \n",
      "ICC3k   [0.39, 0.9]  \n",
      "   exam     judge   rating\n",
      "0     0  baseline   36.972\n",
      "0     0    retest   37.786\n",
      "0     1  baseline   72.561\n",
      "0     1    retest   48.835\n",
      "0     2  baseline   40.328\n",
      "0     2    retest   29.425\n",
      "0     3  baseline   43.413\n",
      "0     3    retest   44.438\n",
      "0     4  baseline   87.393\n",
      "0     4    retest   56.872\n",
      "0     5  baseline  140.704\n",
      "0     5    retest   86.226\n",
      "0     6  baseline   26.375\n",
      "0     6    retest   25.873\n",
      "0     7  baseline   51.260\n",
      "0     7    retest   51.979\n",
      "0     8  baseline   29.085\n",
      "0     8    retest   21.108\n",
      "0     9  baseline   97.524\n",
      "0     9    retest   47.526\n",
      "0    10  baseline   50.953\n",
      "0    10    retest   46.853\n",
      "0    11  baseline  215.843\n",
      "0    11    retest   96.255\n",
      "0    12  baseline  113.626\n",
      "0    12    retest   60.891\n",
      "0    13  baseline   38.898\n",
      "0    13    retest   34.536\n",
      "0    14  baseline  100.994\n",
      "0    14    retest   32.329\n",
      "0    15  baseline   44.043\n",
      "0    15    retest   36.991\n",
      "0    16  baseline   53.502\n",
      "0    16    retest   55.843\n",
      "0    17  baseline   27.794\n",
      "0    17    retest   21.795\n",
      "0    18  baseline   63.612\n",
      "0    18    retest   52.244\n",
      "0    19  baseline   39.552\n",
      "0    19    retest   34.668\n"
     ]
    }
   ],
   "source": [
    "calculate_icc(df_incl, 'egg_test_ndom_time_total', 'egg_test_ndom_time_total_retest')"
   ]
  },
  {
   "cell_type": "code",
   "execution_count": 119,
   "metadata": {},
   "outputs": [],
   "source": [
    "# calculate_icc(df_dom_nooutliers_incl, 'egg_test_dom_time_total', 'egg_test_dom_time_total_retest')"
   ]
  },
  {
   "cell_type": "code",
   "execution_count": 120,
   "metadata": {},
   "outputs": [],
   "source": [
    "# calculate_icc(df_ndom_nooutliers_incl, 'egg_test_ndom_time_total', 'egg_test_ndom_time_total_retest')"
   ]
  },
  {
   "cell_type": "code",
   "execution_count": 121,
   "metadata": {
    "scrolled": true
   },
   "outputs": [
    {
     "name": "stdout",
     "output_type": "stream",
     "text": [
      "54.428617283950636\n",
      "41.76360000000001\n",
      "55.01708860759493\n",
      "46.123649999999984\n"
     ]
    }
   ],
   "source": [
    "print(df_dom_nonan_hc[\"egg_test_dom_time_total\"].mean())\n",
    "print(df_dom_nonan_hc[\"egg_test_dom_time_total_retest\"].mean())\n",
    "print(df_dom_nonan_hc[\"egg_test_ndom_time_total\"].mean())\n",
    "print(df_dom_nonan_hc[\"egg_test_ndom_time_total_retest\"].mean())"
   ]
  },
  {
   "cell_type": "code",
   "execution_count": 122,
   "metadata": {},
   "outputs": [
    {
     "data": {
      "text/plain": [
       "MannwhitneyuResult(statistic=1056.0, pvalue=4.672894072568928e-14)"
      ]
     },
     "execution_count": 122,
     "metadata": {},
     "output_type": "execute_result"
    }
   ],
   "source": [
    "stats.mannwhitneyu(df_dom_nonan_hc['egg_test_dom_time_total'],df_dom_nonan_hc['egg_test_dom_time_total_retest'])\n",
    "stats.mannwhitneyu(df_dom_nonan_hc['egg_test_ndom_time_total'],df_dom_nonan_hc['egg_test_ndom_time_total_retest'])"
   ]
  },
  {
   "cell_type": "markdown",
   "metadata": {},
   "source": [
    "### Plots"
   ]
  },
  {
   "cell_type": "code",
   "execution_count": 123,
   "metadata": {},
   "outputs": [
    {
     "data": {
      "image/png": "[encoded data removed]",
      "text/plain": [
       "<Figure size 432x288 with 1 Axes>"
      ]
     },
     "metadata": {
      "needs_background": "light"
     },
     "output_type": "display_data"
    }
   ],
   "source": [
    "fig, ax = plt.subplots()\n",
    "sns.scatterplot(x = 'egg_test_dom_time_total', y = 'egg_test_dom_time_total_retest', data = df_dom_nonan_hc, ci = False, label = 'Dominant')\n",
    "sns.scatterplot(x = 'egg_test_ndom_time_total', y = 'egg_test_ndom_time_total_retest', data = df_dom_nonan_hc, ci = False, label = 'Non-dominant')\n",
    "ax.legend(bbox_to_anchor=(1.04, 0.5), loc=\"center left\")\n",
    "\n",
    "ax.set_xlabel(\"FDT (seconds)\")\n",
    "ax.set_ylabel(\"FDT (seconds) - retesting\")\n",
    "\n",
    "plt.xlim(0, 250)\n",
    "plt.ylim(0, 250)\n",
    "plt.plot([0, 250], [0, 250], color = 'black')\n",
    "\n",
    "plt.savefig(\"Retest - fancy.jpg\", dpi = 300, bbox_inches = \"tight\")"
   ]
  },
  {
   "cell_type": "code",
   "execution_count": 124,
   "metadata": {},
   "outputs": [
    {
     "data": {
      "image/png": "[encoded data removed]",
      "text/plain": [
       "<Figure size 576x360 with 1 Axes>"
      ]
     },
     "metadata": {
      "needs_background": "light"
     },
     "output_type": "display_data"
    }
   ],
   "source": [
    "f, ax = plt.subplots(1, figsize = (8,5))\n",
    "sm.graphics.mean_diff_plot(df_dom_nonan_hc['egg_test_dom_time_total'], df_dom_nonan_hc['egg_test_dom_time_total_retest'], ax = ax)\n",
    "ax.set_xlabel(\"Mean dominant FDT (seconds) - test & retest\")\n",
    "plt.savefig(\"Bland_altman_dom\", dpi = 300, bbox_inches = \"tight\")"
   ]
  },
  {
   "cell_type": "code",
   "execution_count": 125,
   "metadata": {},
   "outputs": [
    {
     "data": {
      "image/png": "[encoded data removed]",
      "text/plain": [
       "<Figure size 576x360 with 1 Axes>"
      ]
     },
     "metadata": {
      "needs_background": "light"
     },
     "output_type": "display_data"
    }
   ],
   "source": [
    "f, ax = plt.subplots(1, figsize = (8,5))\n",
    "sm.graphics.mean_diff_plot(df_dom_nonan_hc['egg_test_ndom_time_total'], df_dom_nonan_hc['egg_test_ndom_time_total_retest'], ax = ax)\n",
    "ax.set_xlabel(\"Mean non-dominant FDT (seconds) - test & retest\")\n",
    "plt.savefig(\"Bland_altman_ndom\", dpi = 300, bbox_inches = \"tight\")"
   ]
  },
  {
   "cell_type": "markdown",
   "metadata": {},
   "source": [
    "# Regression-based normalisation"
   ]
  },
  {
   "cell_type": "code",
   "metadata": {},
   "source": [
    "def z_normalise(df_hc_overall, df_to_normalise, target_colname, covariates_colnames, lower_is_better):\n",
    "    \"\"\"\n",
    "    This function performs z-normalisation\n",
    "    \"\"\"\n",
    "\n",
    "    # Reject lines with missing value on any of the variables\n",
    "    df_hc = df_hc_overall.copy()\n",
    "    df_hc = df_hc.dropna(subset=covariates_colnames + [target_colname], how='any')\n",
    "\n",
    "    # Get tools for z-normalisation from\n",
    "    model, scaler_X, scaler_y, diff_mean_hc, diff_std_hc = get_healthy_model(df_hc, target_colname, covariates_colnames)\n",
    "\n",
    "    # Loop over all rows in the data frame\n",
    "    z_list = []\n",
    "    for i, row in df_to_normalise.iterrows():\n",
    "        row_df = row.to_frame().T\n",
    "\n",
    "        # Split and scale data\n",
    "        y = row_df[target_colname].iloc[0]\n",
    "        y = np.array([[y]])  # StandardScaler expects 2D array\n",
    "        y = scaler_y.transform(y)\n",
    "        y = np.squeeze(y)\n",
    "        X = row_df[covariates_colnames]\n",
    "        X = sm.add_constant(X, has_constant='add')  # https://github.com/statsmodels/statsmodels/issues/7057\n",
    "        X = scaler_X.transform(X)\n",
    "\n",
    "        y_pred = model.predict(X)\n",
    "        diff = y - y_pred[0]\n",
    "        z = diff_norm = (diff - diff_mean_hc)/diff_std_hc\n",
    "\n",
    "        if lower_is_better:\n",
    "            z = -z\n",
    "        z_list.append(z)\n",
    "\n",
    "    # Save z-scores to dataframe\n",
    "    df_to_normalise[f'z_{target_colname}'] = z_list\n",
    "\n",
    "    return df_to_normalise\n",
    "\n",
    "\n",
    "def get_healthy_model(df_hc, target_colname, covariates_colnames):\n",
    "    # Print information about the distribution of all columns\n",
    "    print(df_hc[covariates_colnames + [target_colname]].describe())\n",
    "\n",
    "    # Scale data target column\n",
    "    y = df_hc[target_colname]\n",
    "    y = y.to_numpy().reshape(-1, 1)  # StandardScaler expects 2D array\n",
    "    scaler_y = StandardScaler()\n",
    "    scaler_y.fit(y)\n",
    "    y = scaler_y.transform(y)\n",
    "    y = np.squeeze(y)\n",
    "\n",
    "    # Scale covariates columns\n",
    "    X = df_hc[covariates_colnames]\n",
    "    X = sm.add_constant(X)\n",
    "    X_columns = X.columns\n",
    "    scaler_X = StandardScaler()\n",
    "    scaler_X.fit(X)\n",
    "    X = scaler_X.transform(X)\n",
    "    X = pd.DataFrame(X, columns=X_columns)  # Add columns for interpretation of the summary\n",
    "\n",
    "    # Fit linear regression\n",
    "    model = sm.OLS(y, X)\n",
    "    results = model.fit()\n",
    "    print(f'\\n\\nLinear Regression Summary:\\n\\n {results.summary()}\\n\\n')\n",
    "\n",
    "    # Predict target\n",
    "    y_pred = results.predict(X)\n",
    "    diff = y - y_pred\n",
    "    diff_mean = np.mean(diff)\n",
    "    diff_std = np.std(diff)\n",
    "    print(f'HC Diff Mean (SD): {diff_mean} ({diff_std})')\n",
    "\n",
    "    return results, scaler_X, scaler_y, diff_mean, diff_std\n",
    "\n",
    "# Z-normalise\n",
    "print(\"Z-normalisation dominant:\")\n",
    "df_dom_nonan_ms = z_normalise(df_dom_nonan_hc, df_dom_nonan_ms, 'egg_test_dom_time_total', ['sex_num', 'age'], lower_is_better=True)\n",
    "df_dom_nonan_hc = z_normalise(df_dom_nonan_hc, df_dom_nonan_hc, 'egg_test_dom_time_total', ['sex_num', 'age'], lower_is_better=True)\n",
    "\n",
    "print(\"Z-normalisation non-dominant:\")\n",
    "df_dom_nonan_ms = z_normalise(df_dom_nonan_hc, df_dom_nonan_ms, 'egg_test_ndom_time_total', ['sex_num', 'age'], lower_is_better=True)\n",
    "df_dom_nonan_hc = z_normalise(df_dom_nonan_hc, df_dom_nonan_hc, 'egg_test_ndom_time_total', ['sex_num', 'age'], lower_is_better=True)"
   ],
   "outputs": [],
   "execution_count": null
  },
  {
   "metadata": {},
   "cell_type": "markdown",
   "source": "Output deleted for anonymisation purposes"
  },
  {
   "cell_type": "markdown",
   "metadata": {},
   "source": [
    "### Plots"
   ]
  },
  {
   "cell_type": "code",
   "execution_count": 127,
   "metadata": {},
   "outputs": [
    {
     "data": {
      "image/png": "[encoded data removed]",
      "text/plain": [
       "<Figure size 432x288 with 1 Axes>"
      ]
     },
     "metadata": {
      "needs_background": "light"
     },
     "output_type": "display_data"
    }
   ],
   "source": [
    "fig, ax = plt.subplots()\n",
    "sns.kdeplot(df_dom_nonan_ms['z_egg_test_dom_time_total'], label='MS')\n",
    "sns.kdeplot(df_dom_nonan_hc['z_egg_test_dom_time_total'], label='HC')\n",
    "plt.legend()\n",
    "plt.title('Z-score distributions dominant hand')\n",
    "plt.xlabel('Z-score')\n",
    "plt.savefig('z-scores_dom', bbox_inches='tight', dpi = 300)"
   ]
  },
  {
   "cell_type": "code",
   "execution_count": 128,
   "metadata": {},
   "outputs": [
    {
     "data": {
      "image/png": "[encoded data removed]",
      "text/plain": [
       "<Figure size 432x288 with 1 Axes>"
      ]
     },
     "metadata": {
      "needs_background": "light"
     },
     "output_type": "display_data"
    }
   ],
   "source": [
    "fig, ax = plt.subplots()\n",
    "sns.kdeplot(df_dom_nonan_ms['z_egg_test_ndom_time_total'], label='MS')\n",
    "sns.kdeplot(df_dom_nonan_hc['z_egg_test_ndom_time_total'], label='HC')\n",
    "plt.legend()\n",
    "plt.title('Z-score distributions non-dominant hand')\n",
    "plt.xlabel('Z-score')\n",
    "plt.savefig('z-scores_ndom', bbox_inches='tight', dpi = 300)"
   ]
  }
 ],
 "metadata": {
  "kernelspec": {
   "display_name": "Python 3",
   "language": "python",
   "name": "python3"
  },
  "language_info": {
   "codemirror_mode": {
    "name": "ipython",
    "version": 3
   },
   "file_extension": ".py",
   "mimetype": "text/x-python",
   "name": "python",
   "nbconvert_exporter": "python",
   "pygments_lexer": "ipython3",
   "version": "3.8.5"
  }
 },
 "nbformat": 4,
 "nbformat_minor": 4
}
